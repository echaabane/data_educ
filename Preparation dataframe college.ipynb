{
 "cells": [
  {
   "cell_type": "markdown",
   "metadata": {},
   "source": [
    "# Analyse de base des fichiers concernant les collèges de l'éducation nationale. \n"
   ]
  },
  {
   "cell_type": "markdown",
   "metadata": {},
   "source": [
    "Objectif : voir les données, trouver des pistes pour comprendre le dataset, et compiler un fichier"
   ]
  },
  {
   "cell_type": "markdown",
   "metadata": {},
   "source": [
    "Il y a 3 fichiers qui concernent les collèges : <ul>\n",
    "  <li>fr-en-ips-college-ap-2022.csv => décrit le public des collèges au niveau social (IPS)</li>\n",
    "  <li>fr-en-indicateurs-valeur-ajoutee-colleges.csv => décrit les résultats des collèges</li>\n",
    "  <li>fr-en-college-effectif-niveau-sexe-lv.csv => décrit les effectifs dans les classes</li>\n",
    "</ul>"
   ]
  },
  {
   "cell_type": "code",
   "execution_count": 1,
   "metadata": {
    "execution": {
     "iopub.execute_input": "2024-04-21T12:07:53.429424Z",
     "iopub.status.busy": "2024-04-21T12:07:53.429159Z",
     "iopub.status.idle": "2024-04-21T12:07:54.129130Z",
     "shell.execute_reply": "2024-04-21T12:07:54.128754Z"
    }
   },
   "outputs": [],
   "source": [
    "# import bibliothéques d'analyse de python\n",
    "import pandas as pd\n",
    "import numpy as np\n"
   ]
  },
  {
   "cell_type": "code",
   "execution_count": 2,
   "metadata": {
    "execution": {
     "iopub.execute_input": "2024-04-21T12:07:54.131244Z",
     "iopub.status.busy": "2024-04-21T12:07:54.131013Z",
     "iopub.status.idle": "2024-04-21T12:07:54.281851Z",
     "shell.execute_reply": "2024-04-21T12:07:54.281433Z"
    }
   },
   "outputs": [],
   "source": [
    "college_resultat = pd.read_csv(\"donnee/fr-en-indicateurs-valeur-ajoutee-colleges.csv\",sep=\";\")\n",
    "collegue_stat = pd.read_csv(\"donnee/fr-en-ips-colleges-ap2022.csv\",sep=\";\")\n",
    "effectif_colleges = pd.read_csv(\"donnee/fr-en-college-effectifs-niveau-sexe-lv.csv\",sep=\";\")"
   ]
  },
  {
   "cell_type": "markdown",
   "metadata": {},
   "source": [
    "## Affichage des entêtes des données"
   ]
  },
  {
   "cell_type": "code",
   "execution_count": 3,
   "metadata": {
    "execution": {
     "iopub.execute_input": "2024-04-21T12:07:54.283510Z",
     "iopub.status.busy": "2024-04-21T12:07:54.283373Z",
     "iopub.status.idle": "2024-04-21T12:07:54.293923Z",
     "shell.execute_reply": "2024-04-21T12:07:54.293623Z"
    }
   },
   "outputs": [
    {
     "data": {
      "text/html": [
       "<div>\n",
       "<style scoped>\n",
       "    .dataframe tbody tr th:only-of-type {\n",
       "        vertical-align: middle;\n",
       "    }\n",
       "\n",
       "    .dataframe tbody tr th {\n",
       "        vertical-align: top;\n",
       "    }\n",
       "\n",
       "    .dataframe thead th {\n",
       "        text-align: right;\n",
       "    }\n",
       "</style>\n",
       "<table border=\"1\" class=\"dataframe\">\n",
       "  <thead>\n",
       "    <tr style=\"text-align: right;\">\n",
       "      <th></th>\n",
       "      <th>Rentrée scolaire</th>\n",
       "      <th>Région</th>\n",
       "      <th>Académie</th>\n",
       "      <th>Département</th>\n",
       "      <th>Commune</th>\n",
       "      <th>Numéro du collège</th>\n",
       "      <th>Dénomination principale</th>\n",
       "      <th>Patronyme</th>\n",
       "      <th>Secteur</th>\n",
       "      <th>REP</th>\n",
       "      <th>...</th>\n",
       "      <th>3èmes LV1 allemand</th>\n",
       "      <th>3èmes LV1 anglais</th>\n",
       "      <th>3èmes LV1 espagnol</th>\n",
       "      <th>3èmes LV1 autres langues</th>\n",
       "      <th>3èmes LV2 allemand</th>\n",
       "      <th>3èmes LV2 anglais</th>\n",
       "      <th>3èmes LV2 espagnol</th>\n",
       "      <th>3èmes LV2 italien</th>\n",
       "      <th>3èmes LV2 autres langues</th>\n",
       "      <th>Code postal</th>\n",
       "    </tr>\n",
       "  </thead>\n",
       "  <tbody>\n",
       "    <tr>\n",
       "      <th>0</th>\n",
       "      <td>2019</td>\n",
       "      <td>AUVERGNE-ET-RHONE-ALPES</td>\n",
       "      <td>LYON</td>\n",
       "      <td>RHONE</td>\n",
       "      <td>VILLEURBANNE</td>\n",
       "      <td>0691664J</td>\n",
       "      <td>COLLEGE</td>\n",
       "      <td>JEAN JAURES</td>\n",
       "      <td>PUBLIC</td>\n",
       "      <td>1</td>\n",
       "      <td>...</td>\n",
       "      <td>0</td>\n",
       "      <td>175</td>\n",
       "      <td>0</td>\n",
       "      <td>0</td>\n",
       "      <td>26</td>\n",
       "      <td>0</td>\n",
       "      <td>131</td>\n",
       "      <td>14</td>\n",
       "      <td>0</td>\n",
       "      <td>69100.0</td>\n",
       "    </tr>\n",
       "  </tbody>\n",
       "</table>\n",
       "<p>1 rows × 76 columns</p>\n",
       "</div>"
      ],
      "text/plain": [
       "   Rentrée scolaire                   Région Académie Département  \\\n",
       "0              2019  AUVERGNE-ET-RHONE-ALPES     LYON       RHONE   \n",
       "\n",
       "        Commune Numéro du collège Dénomination principale    Patronyme  \\\n",
       "0  VILLEURBANNE          0691664J                 COLLEGE  JEAN JAURES   \n",
       "\n",
       "  Secteur  REP  ...  3èmes LV1 allemand  3èmes LV1 anglais  \\\n",
       "0  PUBLIC    1  ...                   0                175   \n",
       "\n",
       "   3èmes LV1 espagnol  3èmes LV1 autres langues  3èmes LV2 allemand  \\\n",
       "0                   0                         0                  26   \n",
       "\n",
       "   3èmes LV2 anglais  3èmes LV2 espagnol  3èmes LV2 italien  \\\n",
       "0                  0                 131                 14   \n",
       "\n",
       "   3èmes LV2 autres langues  Code postal  \n",
       "0                         0      69100.0  \n",
       "\n",
       "[1 rows x 76 columns]"
      ]
     },
     "execution_count": 3,
     "metadata": {},
     "output_type": "execute_result"
    }
   ],
   "source": [
    "effectif_colleges.head(1)"
   ]
  },
  {
   "cell_type": "code",
   "execution_count": 4,
   "metadata": {
    "execution": {
     "iopub.execute_input": "2024-04-21T12:07:54.295315Z",
     "iopub.status.busy": "2024-04-21T12:07:54.295191Z",
     "iopub.status.idle": "2024-04-21T12:07:54.324100Z",
     "shell.execute_reply": "2024-04-21T12:07:54.323669Z"
    }
   },
   "outputs": [
    {
     "name": "stdout",
     "output_type": "stream",
     "text": [
      "<class 'pandas.core.frame.DataFrame'>\n",
      "RangeIndex: 32982 entries, 0 to 32981\n",
      "Data columns (total 76 columns):\n",
      " #   Column                                      Non-Null Count  Dtype  \n",
      "---  ------                                      --------------  -----  \n",
      " 0   Rentrée scolaire                            32982 non-null  int64  \n",
      " 1   Région                                      32982 non-null  object \n",
      " 2   Académie                                    32982 non-null  object \n",
      " 3   Département                                 32982 non-null  object \n",
      " 4   Commune                                     32982 non-null  object \n",
      " 5   Numéro du collège                           32982 non-null  object \n",
      " 6   Dénomination principale                     32982 non-null  object \n",
      " 7   Patronyme                                   32927 non-null  object \n",
      " 8   Secteur                                     32982 non-null  object \n",
      " 9   REP                                         32982 non-null  int64  \n",
      " 10  REP +                                       32982 non-null  int64  \n",
      " 11  Nombre d'élèves total                       32982 non-null  int64  \n",
      " 12  Nombre d'élèves total hors Segpa hors ULIS  32982 non-null  int64  \n",
      " 13  Nombre d'élèves total Segpa                 32982 non-null  int64  \n",
      " 14  Nombre d'élèves total ULIS                  32982 non-null  int64  \n",
      " 15  6èmes total                                 32982 non-null  int64  \n",
      " 16  6èmes hors Segpa hors ULIS                  32982 non-null  int64  \n",
      " 17  6èmes Segpa                                 32982 non-null  int64  \n",
      " 18  6èmes ULIS                                  32982 non-null  int64  \n",
      " 19  6èmes filles                                32982 non-null  int64  \n",
      " 20  6èmes garçons                               32982 non-null  int64  \n",
      " 21  6èmes LV1 allemand                          32982 non-null  int64  \n",
      " 22  6èmes LV1 anglais                           32982 non-null  int64  \n",
      " 23  6èmes LV1 espagnol                          32982 non-null  int64  \n",
      " 24  6èmes LV1 autres langues                    32982 non-null  int64  \n",
      " 25  6èmes LV2 allemand                          32982 non-null  int64  \n",
      " 26  6èmes LV2 anglais                           32982 non-null  int64  \n",
      " 27  6èmes LV2 espagnol                          32982 non-null  int64  \n",
      " 28  6èmes LV2 italien                           32982 non-null  int64  \n",
      " 29  6ème LV2 autres langues                     32982 non-null  int64  \n",
      " 30  5èmes total                                 32982 non-null  int64  \n",
      " 31  5èmes hors Segpa hors ULIS                  32982 non-null  int64  \n",
      " 32  5èmes Segpa                                 32982 non-null  int64  \n",
      " 33  5èmes ULIS                                  32982 non-null  int64  \n",
      " 34  5èmes filles                                32982 non-null  int64  \n",
      " 35  5èmes garçons                               32982 non-null  int64  \n",
      " 36  5èmes LV1 allemand                          32982 non-null  int64  \n",
      " 37  5èmes LV1 anglais                           32982 non-null  int64  \n",
      " 38  5èmes LV1 espagnol                          32982 non-null  int64  \n",
      " 39  5èmes LV1 autres langues                    32982 non-null  int64  \n",
      " 40  5èmes LV2 allemand                          32982 non-null  int64  \n",
      " 41  5èmes LV2 anglais                           32982 non-null  int64  \n",
      " 42  5èmes LV2 espagnol                          32982 non-null  int64  \n",
      " 43  5èmes LV2 italien                           32982 non-null  int64  \n",
      " 44  5èmes LV2 autres langues                    32982 non-null  int64  \n",
      " 45  4èmes total                                 32982 non-null  int64  \n",
      " 46  4èmes hors Segpa hors ULIS                  32982 non-null  int64  \n",
      " 47  4èmes Segpa                                 32982 non-null  int64  \n",
      " 48  4èmes ULIS                                  32982 non-null  int64  \n",
      " 49  4èmes filles                                32982 non-null  int64  \n",
      " 50  4èmes garçons                               32982 non-null  int64  \n",
      " 51  4èmes LV1 allemand                          32982 non-null  int64  \n",
      " 52  4èmes LV1 anglais                           32982 non-null  int64  \n",
      " 53  4èmes LV1 espagnol                          32982 non-null  int64  \n",
      " 54  4èmes LV1 autres langues                    32982 non-null  int64  \n",
      " 55  4èmes LV2 allemand                          32982 non-null  int64  \n",
      " 56  4èmes LV2 anglais                           32982 non-null  int64  \n",
      " 57  4èmes LV2 espagnol                          32982 non-null  int64  \n",
      " 58  4èmes LV2 italien                           32982 non-null  int64  \n",
      " 59  4èmes LV2 autres langues                    32982 non-null  int64  \n",
      " 60  3èmes total                                 32982 non-null  int64  \n",
      " 61  3èmes hors Segpa hors ULIS                  32982 non-null  int64  \n",
      " 62  3èmes Segpa                                 32982 non-null  int64  \n",
      " 63  3èmes ULIS                                  32982 non-null  int64  \n",
      " 64  3èmes filles                                32982 non-null  int64  \n",
      " 65  3èmes garçons                               32982 non-null  int64  \n",
      " 66  3èmes LV1 allemand                          32982 non-null  int64  \n",
      " 67  3èmes LV1 anglais                           32982 non-null  int64  \n",
      " 68  3èmes LV1 espagnol                          32982 non-null  int64  \n",
      " 69  3èmes LV1 autres langues                    32982 non-null  int64  \n",
      " 70  3èmes LV2 allemand                          32982 non-null  int64  \n",
      " 71  3èmes LV2 anglais                           32982 non-null  int64  \n",
      " 72  3èmes LV2 espagnol                          32982 non-null  int64  \n",
      " 73  3èmes LV2 italien                           32982 non-null  int64  \n",
      " 74  3èmes LV2 autres langues                    32982 non-null  int64  \n",
      " 75  Code postal                                 32862 non-null  float64\n",
      "dtypes: float64(1), int64(67), object(8)\n",
      "memory usage: 19.1+ MB\n"
     ]
    }
   ],
   "source": [
    "effectif_colleges.info()"
   ]
  },
  {
   "cell_type": "markdown",
   "metadata": {},
   "source": [
    "Le fichier fr-en-college-effectifs-niveau-sexe-lv.csv contient 76 colonnes : <br>\n",
    "<ul>\n",
    "  <li>Une colonne rentrée_scolaire avec l'année de la rentrée.</li>\n",
    "  <li>9 colonnes pour identifier le collège dont numero_college qui peut servir d'identifiant.</li>\n",
    "  <li>2 colonnes rep et rep_plus pour savoir si le collège est en zone d'enseignement prioritaire.</li>\n",
    "  <li>64 colonnes qui contiennent les effectifs de la sixième à la troisième.<br>\n",
    "    Les classes sont divisées en fonction des choix de langues, du sexe, de la section. (SEGPA, ULIS)</li>\n",
    "</ul>\n",
    "Il y a beaucoup de colonnes, en fonction du but recherché, je pense ne pas avoir besoin des colonnes qui concernent les langues.<br>"
   ]
  },
  {
   "cell_type": "code",
   "execution_count": 5,
   "metadata": {
    "execution": {
     "iopub.execute_input": "2024-04-21T12:07:54.326119Z",
     "iopub.status.busy": "2024-04-21T12:07:54.325931Z",
     "iopub.status.idle": "2024-04-21T12:07:54.331895Z",
     "shell.execute_reply": "2024-04-21T12:07:54.331623Z"
    }
   },
   "outputs": [
    {
     "data": {
      "text/html": [
       "<div>\n",
       "<style scoped>\n",
       "    .dataframe tbody tr th:only-of-type {\n",
       "        vertical-align: middle;\n",
       "    }\n",
       "\n",
       "    .dataframe tbody tr th {\n",
       "        vertical-align: top;\n",
       "    }\n",
       "\n",
       "    .dataframe thead th {\n",
       "        text-align: right;\n",
       "    }\n",
       "</style>\n",
       "<table border=\"1\" class=\"dataframe\">\n",
       "  <thead>\n",
       "    <tr style=\"text-align: right;\">\n",
       "      <th></th>\n",
       "      <th>Rentrée scolaire</th>\n",
       "      <th>Académie</th>\n",
       "      <th>Code du département</th>\n",
       "      <th>Département</th>\n",
       "      <th>UAI</th>\n",
       "      <th>Nom de l'établissment</th>\n",
       "      <th>Code INSEE de la commune</th>\n",
       "      <th>Nom de la commune</th>\n",
       "      <th>Secteur</th>\n",
       "      <th>Effectifs</th>\n",
       "      <th>IPS</th>\n",
       "      <th>Ecart-type de l'IPS</th>\n",
       "    </tr>\n",
       "  </thead>\n",
       "  <tbody>\n",
       "    <tr>\n",
       "      <th>0</th>\n",
       "      <td>2022-2023</td>\n",
       "      <td>LYON</td>\n",
       "      <td>001</td>\n",
       "      <td>AIN</td>\n",
       "      <td>0010026Y</td>\n",
       "      <td>COLLEGE PAUL CLAUDEL</td>\n",
       "      <td>01202</td>\n",
       "      <td>LAGNIEU</td>\n",
       "      <td>public</td>\n",
       "      <td>777.0</td>\n",
       "      <td>111.1</td>\n",
       "      <td>32.8</td>\n",
       "    </tr>\n",
       "  </tbody>\n",
       "</table>\n",
       "</div>"
      ],
      "text/plain": [
       "  Rentrée scolaire Académie Code du département Département       UAI  \\\n",
       "0        2022-2023     LYON                 001         AIN  0010026Y   \n",
       "\n",
       "  Nom de l'établissment Code INSEE de la commune Nom de la commune Secteur  \\\n",
       "0  COLLEGE PAUL CLAUDEL                    01202           LAGNIEU  public   \n",
       "\n",
       "   Effectifs    IPS  Ecart-type de l'IPS  \n",
       "0      777.0  111.1                 32.8  "
      ]
     },
     "execution_count": 5,
     "metadata": {},
     "output_type": "execute_result"
    }
   ],
   "source": [
    "collegue_stat.head(1)"
   ]
  },
  {
   "cell_type": "code",
   "execution_count": 6,
   "metadata": {
    "execution": {
     "iopub.execute_input": "2024-04-21T12:07:54.333379Z",
     "iopub.status.busy": "2024-04-21T12:07:54.333231Z",
     "iopub.status.idle": "2024-04-21T12:07:54.345455Z",
     "shell.execute_reply": "2024-04-21T12:07:54.344956Z"
    }
   },
   "outputs": [
    {
     "name": "stdout",
     "output_type": "stream",
     "text": [
      "<class 'pandas.core.frame.DataFrame'>\n",
      "RangeIndex: 6973 entries, 0 to 6972\n",
      "Data columns (total 12 columns):\n",
      " #   Column                    Non-Null Count  Dtype  \n",
      "---  ------                    --------------  -----  \n",
      " 0   Rentrée scolaire          6973 non-null   object \n",
      " 1   Académie                  6973 non-null   object \n",
      " 2   Code du département       6973 non-null   object \n",
      " 3   Département               6973 non-null   object \n",
      " 4   UAI                       6973 non-null   object \n",
      " 5   Nom de l'établissment     6973 non-null   object \n",
      " 6   Code INSEE de la commune  6973 non-null   object \n",
      " 7   Nom de la commune         6973 non-null   object \n",
      " 8   Secteur                   6973 non-null   object \n",
      " 9   Effectifs                 6973 non-null   float64\n",
      " 10  IPS                       6973 non-null   float64\n",
      " 11  Ecart-type de l'IPS       6973 non-null   float64\n",
      "dtypes: float64(3), object(9)\n",
      "memory usage: 653.8+ KB\n"
     ]
    }
   ],
   "source": [
    "collegue_stat.info()"
   ]
  },
  {
   "cell_type": "markdown",
   "metadata": {},
   "source": [
    "Le fichiers fr-en-ips-colleges-ap2022.csv contient 12 colonnes.<br>\n",
    "<br>\n",
    "Une colonne qui contient l'année de la rentrée dans un format XXXX-YYYY.<br>\n",
    "8 colonnes pour identifier le collège dont un numéro uai qui correspond au numero_college du précédent fichier<br>\n",
    "L'effectif du collège ainsi que l'IPS moyen et l'écart-type de l'IPS<br>\n",
    "<br>\n",
    "Voir pour mettre la rentrée scolaire du format XXXX-YYYY au format XXXX.<br>"
   ]
  },
  {
   "cell_type": "code",
   "execution_count": 7,
   "metadata": {
    "execution": {
     "iopub.execute_input": "2024-04-21T12:07:54.347450Z",
     "iopub.status.busy": "2024-04-21T12:07:54.347291Z",
     "iopub.status.idle": "2024-04-21T12:07:54.356510Z",
     "shell.execute_reply": "2024-04-21T12:07:54.356063Z"
    }
   },
   "outputs": [
    {
     "data": {
      "text/html": [
       "<div>\n",
       "<style scoped>\n",
       "    .dataframe tbody tr th:only-of-type {\n",
       "        vertical-align: middle;\n",
       "    }\n",
       "\n",
       "    .dataframe tbody tr th {\n",
       "        vertical-align: top;\n",
       "    }\n",
       "\n",
       "    .dataframe thead th {\n",
       "        text-align: right;\n",
       "    }\n",
       "</style>\n",
       "<table border=\"1\" class=\"dataframe\">\n",
       "  <thead>\n",
       "    <tr style=\"text-align: right;\">\n",
       "      <th></th>\n",
       "      <th>Session</th>\n",
       "      <th>UAI</th>\n",
       "      <th>Nom de l'établissement</th>\n",
       "      <th>Commune</th>\n",
       "      <th>Département</th>\n",
       "      <th>Académie</th>\n",
       "      <th>Secteur</th>\n",
       "      <th>Nb candidats - G</th>\n",
       "      <th>Taux de réussite - G</th>\n",
       "      <th>VA du taux de réussite - G</th>\n",
       "      <th>...</th>\n",
       "      <th>Note à l'écrit - P</th>\n",
       "      <th>Taux d'accès 6ème-3ème</th>\n",
       "      <th>Part présents 3ème ordinaire - Total</th>\n",
       "      <th>Part présents 3ème ordinaire - G</th>\n",
       "      <th>Part présents 3ème ordinaire - P</th>\n",
       "      <th>Part présents 3ème Segpa - Total</th>\n",
       "      <th>Nb mentions AB - G</th>\n",
       "      <th>Nb mentions B - G</th>\n",
       "      <th>Nb mentions TB - G</th>\n",
       "      <th>Nb mentions global - G</th>\n",
       "    </tr>\n",
       "  </thead>\n",
       "  <tbody>\n",
       "    <tr>\n",
       "      <th>0</th>\n",
       "      <td>2023</td>\n",
       "      <td>0010037K</td>\n",
       "      <td>COLLEGE LOUISE DE SAVOIE</td>\n",
       "      <td>PONT D AIN</td>\n",
       "      <td>AIN</td>\n",
       "      <td>LYON</td>\n",
       "      <td>PU</td>\n",
       "      <td>129</td>\n",
       "      <td>78.0</td>\n",
       "      <td>-17.0</td>\n",
       "      <td>...</td>\n",
       "      <td>NaN</td>\n",
       "      <td>95.0</td>\n",
       "      <td>94.0</td>\n",
       "      <td>NaN</td>\n",
       "      <td>NaN</td>\n",
       "      <td>NaN</td>\n",
       "      <td>21</td>\n",
       "      <td>31</td>\n",
       "      <td>28</td>\n",
       "      <td>80</td>\n",
       "    </tr>\n",
       "  </tbody>\n",
       "</table>\n",
       "<p>1 rows × 24 columns</p>\n",
       "</div>"
      ],
      "text/plain": [
       "   Session       UAI    Nom de l'établissement     Commune Département  \\\n",
       "0     2023  0010037K  COLLEGE LOUISE DE SAVOIE  PONT D AIN         AIN   \n",
       "\n",
       "  Académie Secteur  Nb candidats - G  Taux de réussite - G  \\\n",
       "0     LYON      PU               129                  78.0   \n",
       "\n",
       "   VA du taux de réussite - G  ...  Note à l'écrit - P  \\\n",
       "0                       -17.0  ...                 NaN   \n",
       "\n",
       "   Taux d'accès 6ème-3ème  Part présents 3ème ordinaire - Total  \\\n",
       "0                    95.0                                  94.0   \n",
       "\n",
       "   Part présents 3ème ordinaire - G  Part présents 3ème ordinaire - P  \\\n",
       "0                               NaN                               NaN   \n",
       "\n",
       "   Part présents 3ème Segpa - Total  Nb mentions AB - G  Nb mentions B - G  \\\n",
       "0                               NaN                  21                 31   \n",
       "\n",
       "   Nb mentions TB - G  Nb mentions global - G  \n",
       "0                  28                      80  \n",
       "\n",
       "[1 rows x 24 columns]"
      ]
     },
     "execution_count": 7,
     "metadata": {},
     "output_type": "execute_result"
    }
   ],
   "source": [
    "college_resultat.head(1)"
   ]
  },
  {
   "cell_type": "code",
   "execution_count": 8,
   "metadata": {
    "execution": {
     "iopub.execute_input": "2024-04-21T12:07:54.357941Z",
     "iopub.status.busy": "2024-04-21T12:07:54.357761Z",
     "iopub.status.idle": "2024-04-21T12:07:54.368854Z",
     "shell.execute_reply": "2024-04-21T12:07:54.368529Z"
    }
   },
   "outputs": [
    {
     "name": "stdout",
     "output_type": "stream",
     "text": [
      "<class 'pandas.core.frame.DataFrame'>\n",
      "RangeIndex: 13237 entries, 0 to 13236\n",
      "Data columns (total 24 columns):\n",
      " #   Column                                Non-Null Count  Dtype  \n",
      "---  ------                                --------------  -----  \n",
      " 0   Session                               13237 non-null  int64  \n",
      " 1   UAI                                   13237 non-null  object \n",
      " 2   Nom de l'établissement                13237 non-null  object \n",
      " 3   Commune                               13237 non-null  object \n",
      " 4   Département                           13237 non-null  object \n",
      " 5   Académie                              13237 non-null  object \n",
      " 6   Secteur                               13237 non-null  object \n",
      " 7   Nb candidats - G                      13237 non-null  int64  \n",
      " 8   Taux de réussite - G                  13237 non-null  float64\n",
      " 9   VA du taux de réussite - G            12712 non-null  float64\n",
      " 10  Nb candidats - P                      4013 non-null   float64\n",
      " 11  Taux de réussite - P                  4013 non-null   float64\n",
      " 12  Note à l'écrit - G                    13237 non-null  float64\n",
      " 13  VA de la note - G                     12712 non-null  float64\n",
      " 14  Note à l'écrit - P                    4013 non-null   float64\n",
      " 15  Taux d'accès 6ème-3ème                13216 non-null  float64\n",
      " 16  Part présents 3ème ordinaire - Total  13237 non-null  float64\n",
      " 17  Part présents 3ème ordinaire - G      6621 non-null   float64\n",
      " 18  Part présents 3ème ordinaire - P      2100 non-null   float64\n",
      " 19  Part présents 3ème Segpa - Total      2809 non-null   float64\n",
      " 20  Nb mentions AB - G                    13237 non-null  int64  \n",
      " 21  Nb mentions B - G                     13237 non-null  int64  \n",
      " 22  Nb mentions TB - G                    13237 non-null  int64  \n",
      " 23  Nb mentions global - G                13237 non-null  int64  \n",
      "dtypes: float64(12), int64(6), object(6)\n",
      "memory usage: 2.4+ MB\n"
     ]
    }
   ],
   "source": [
    "college_resultat.info()"
   ]
  },
  {
   "cell_type": "code",
   "execution_count": 9,
   "metadata": {
    "execution": {
     "iopub.execute_input": "2024-04-21T12:07:54.370311Z",
     "iopub.status.busy": "2024-04-21T12:07:54.370164Z",
     "iopub.status.idle": "2024-04-21T12:07:54.401723Z",
     "shell.execute_reply": "2024-04-21T12:07:54.401336Z"
    }
   },
   "outputs": [
    {
     "data": {
      "text/html": [
       "<div>\n",
       "<style scoped>\n",
       "    .dataframe tbody tr th:only-of-type {\n",
       "        vertical-align: middle;\n",
       "    }\n",
       "\n",
       "    .dataframe tbody tr th {\n",
       "        vertical-align: top;\n",
       "    }\n",
       "\n",
       "    .dataframe thead th {\n",
       "        text-align: right;\n",
       "    }\n",
       "</style>\n",
       "<table border=\"1\" class=\"dataframe\">\n",
       "  <thead>\n",
       "    <tr style=\"text-align: right;\">\n",
       "      <th></th>\n",
       "      <th>Session</th>\n",
       "      <th>Nb candidats - G</th>\n",
       "      <th>Taux de réussite - G</th>\n",
       "      <th>VA du taux de réussite - G</th>\n",
       "      <th>Nb candidats - P</th>\n",
       "      <th>Taux de réussite - P</th>\n",
       "      <th>Note à l'écrit - G</th>\n",
       "      <th>VA de la note - G</th>\n",
       "      <th>Note à l'écrit - P</th>\n",
       "      <th>Taux d'accès 6ème-3ème</th>\n",
       "      <th>Part présents 3ème ordinaire - Total</th>\n",
       "      <th>Part présents 3ème ordinaire - G</th>\n",
       "      <th>Part présents 3ème ordinaire - P</th>\n",
       "      <th>Part présents 3ème Segpa - Total</th>\n",
       "      <th>Nb mentions AB - G</th>\n",
       "      <th>Nb mentions B - G</th>\n",
       "      <th>Nb mentions TB - G</th>\n",
       "      <th>Nb mentions global - G</th>\n",
       "    </tr>\n",
       "  </thead>\n",
       "  <tbody>\n",
       "    <tr>\n",
       "      <th>count</th>\n",
       "      <td>13237.000000</td>\n",
       "      <td>13237.000000</td>\n",
       "      <td>13237.000000</td>\n",
       "      <td>12712.000000</td>\n",
       "      <td>4013.000000</td>\n",
       "      <td>4013.000000</td>\n",
       "      <td>13237.000000</td>\n",
       "      <td>12712.000000</td>\n",
       "      <td>4013.000000</td>\n",
       "      <td>13216.000000</td>\n",
       "      <td>13237.000000</td>\n",
       "      <td>6621.000000</td>\n",
       "      <td>2100.000000</td>\n",
       "      <td>2809.000000</td>\n",
       "      <td>13237.000000</td>\n",
       "      <td>13237.000000</td>\n",
       "      <td>13237.000000</td>\n",
       "      <td>13237.000000</td>\n",
       "    </tr>\n",
       "    <tr>\n",
       "      <th>mean</th>\n",
       "      <td>2022.499736</td>\n",
       "      <td>112.607691</td>\n",
       "      <td>89.835083</td>\n",
       "      <td>-0.870673</td>\n",
       "      <td>14.085971</td>\n",
       "      <td>73.145527</td>\n",
       "      <td>10.892098</td>\n",
       "      <td>0.005027</td>\n",
       "      <td>7.637204</td>\n",
       "      <td>90.512939</td>\n",
       "      <td>96.801466</td>\n",
       "      <td>95.146655</td>\n",
       "      <td>5.563810</td>\n",
       "      <td>63.414026</td>\n",
       "      <td>22.083780</td>\n",
       "      <td>26.549143</td>\n",
       "      <td>32.624311</td>\n",
       "      <td>81.257234</td>\n",
       "    </tr>\n",
       "    <tr>\n",
       "      <th>std</th>\n",
       "      <td>0.500019</td>\n",
       "      <td>48.461432</td>\n",
       "      <td>7.967262</td>\n",
       "      <td>5.812258</td>\n",
       "      <td>9.151698</td>\n",
       "      <td>21.608066</td>\n",
       "      <td>1.638329</td>\n",
       "      <td>0.730088</td>\n",
       "      <td>1.957064</td>\n",
       "      <td>5.730073</td>\n",
       "      <td>3.168629</td>\n",
       "      <td>5.101279</td>\n",
       "      <td>5.312818</td>\n",
       "      <td>31.012069</td>\n",
       "      <td>10.584919</td>\n",
       "      <td>14.464834</td>\n",
       "      <td>24.761978</td>\n",
       "      <td>41.291517</td>\n",
       "    </tr>\n",
       "    <tr>\n",
       "      <th>min</th>\n",
       "      <td>2022.000000</td>\n",
       "      <td>30.000000</td>\n",
       "      <td>39.000000</td>\n",
       "      <td>-28.000000</td>\n",
       "      <td>5.000000</td>\n",
       "      <td>0.000000</td>\n",
       "      <td>3.500000</td>\n",
       "      <td>-3.400000</td>\n",
       "      <td>2.000000</td>\n",
       "      <td>27.000000</td>\n",
       "      <td>0.000000</td>\n",
       "      <td>55.000000</td>\n",
       "      <td>0.000000</td>\n",
       "      <td>0.000000</td>\n",
       "      <td>0.000000</td>\n",
       "      <td>1.000000</td>\n",
       "      <td>0.000000</td>\n",
       "      <td>6.000000</td>\n",
       "    </tr>\n",
       "    <tr>\n",
       "      <th>25%</th>\n",
       "      <td>2022.000000</td>\n",
       "      <td>77.000000</td>\n",
       "      <td>85.000000</td>\n",
       "      <td>-4.000000</td>\n",
       "      <td>8.000000</td>\n",
       "      <td>60.000000</td>\n",
       "      <td>9.800000</td>\n",
       "      <td>-0.500000</td>\n",
       "      <td>6.200000</td>\n",
       "      <td>88.000000</td>\n",
       "      <td>96.000000</td>\n",
       "      <td>94.000000</td>\n",
       "      <td>2.000000</td>\n",
       "      <td>43.000000</td>\n",
       "      <td>14.000000</td>\n",
       "      <td>16.000000</td>\n",
       "      <td>16.000000</td>\n",
       "      <td>52.000000</td>\n",
       "    </tr>\n",
       "    <tr>\n",
       "      <th>50%</th>\n",
       "      <td>2022.000000</td>\n",
       "      <td>109.000000</td>\n",
       "      <td>91.000000</td>\n",
       "      <td>0.000000</td>\n",
       "      <td>12.000000</td>\n",
       "      <td>77.000000</td>\n",
       "      <td>10.900000</td>\n",
       "      <td>0.000000</td>\n",
       "      <td>7.400000</td>\n",
       "      <td>92.000000</td>\n",
       "      <td>98.000000</td>\n",
       "      <td>97.000000</td>\n",
       "      <td>4.000000</td>\n",
       "      <td>71.000000</td>\n",
       "      <td>21.000000</td>\n",
       "      <td>24.000000</td>\n",
       "      <td>27.000000</td>\n",
       "      <td>75.000000</td>\n",
       "    </tr>\n",
       "    <tr>\n",
       "      <th>75%</th>\n",
       "      <td>2023.000000</td>\n",
       "      <td>141.000000</td>\n",
       "      <td>96.000000</td>\n",
       "      <td>3.000000</td>\n",
       "      <td>17.000000</td>\n",
       "      <td>90.000000</td>\n",
       "      <td>12.000000</td>\n",
       "      <td>0.500000</td>\n",
       "      <td>8.900000</td>\n",
       "      <td>94.000000</td>\n",
       "      <td>99.000000</td>\n",
       "      <td>98.000000</td>\n",
       "      <td>8.000000</td>\n",
       "      <td>90.000000</td>\n",
       "      <td>28.000000</td>\n",
       "      <td>33.000000</td>\n",
       "      <td>42.000000</td>\n",
       "      <td>102.000000</td>\n",
       "    </tr>\n",
       "    <tr>\n",
       "      <th>max</th>\n",
       "      <td>2023.000000</td>\n",
       "      <td>489.000000</td>\n",
       "      <td>100.000000</td>\n",
       "      <td>29.000000</td>\n",
       "      <td>171.000000</td>\n",
       "      <td>100.000000</td>\n",
       "      <td>17.000000</td>\n",
       "      <td>3.300000</td>\n",
       "      <td>15.900000</td>\n",
       "      <td>100.000000</td>\n",
       "      <td>100.000000</td>\n",
       "      <td>100.000000</td>\n",
       "      <td>41.000000</td>\n",
       "      <td>100.000000</td>\n",
       "      <td>102.000000</td>\n",
       "      <td>192.000000</td>\n",
       "      <td>362.000000</td>\n",
       "      <td>468.000000</td>\n",
       "    </tr>\n",
       "  </tbody>\n",
       "</table>\n",
       "</div>"
      ],
      "text/plain": [
       "            Session  Nb candidats - G  Taux de réussite - G  \\\n",
       "count  13237.000000      13237.000000          13237.000000   \n",
       "mean    2022.499736        112.607691             89.835083   \n",
       "std        0.500019         48.461432              7.967262   \n",
       "min     2022.000000         30.000000             39.000000   \n",
       "25%     2022.000000         77.000000             85.000000   \n",
       "50%     2022.000000        109.000000             91.000000   \n",
       "75%     2023.000000        141.000000             96.000000   \n",
       "max     2023.000000        489.000000            100.000000   \n",
       "\n",
       "       VA du taux de réussite - G  Nb candidats - P  Taux de réussite - P  \\\n",
       "count                12712.000000       4013.000000           4013.000000   \n",
       "mean                    -0.870673         14.085971             73.145527   \n",
       "std                      5.812258          9.151698             21.608066   \n",
       "min                    -28.000000          5.000000              0.000000   \n",
       "25%                     -4.000000          8.000000             60.000000   \n",
       "50%                      0.000000         12.000000             77.000000   \n",
       "75%                      3.000000         17.000000             90.000000   \n",
       "max                     29.000000        171.000000            100.000000   \n",
       "\n",
       "       Note à l'écrit - G  VA de la note - G  Note à l'écrit - P  \\\n",
       "count        13237.000000       12712.000000         4013.000000   \n",
       "mean            10.892098           0.005027            7.637204   \n",
       "std              1.638329           0.730088            1.957064   \n",
       "min              3.500000          -3.400000            2.000000   \n",
       "25%              9.800000          -0.500000            6.200000   \n",
       "50%             10.900000           0.000000            7.400000   \n",
       "75%             12.000000           0.500000            8.900000   \n",
       "max             17.000000           3.300000           15.900000   \n",
       "\n",
       "       Taux d'accès 6ème-3ème  Part présents 3ème ordinaire - Total  \\\n",
       "count            13216.000000                          13237.000000   \n",
       "mean                90.512939                             96.801466   \n",
       "std                  5.730073                              3.168629   \n",
       "min                 27.000000                              0.000000   \n",
       "25%                 88.000000                             96.000000   \n",
       "50%                 92.000000                             98.000000   \n",
       "75%                 94.000000                             99.000000   \n",
       "max                100.000000                            100.000000   \n",
       "\n",
       "       Part présents 3ème ordinaire - G  Part présents 3ème ordinaire - P  \\\n",
       "count                       6621.000000                       2100.000000   \n",
       "mean                          95.146655                          5.563810   \n",
       "std                            5.101279                          5.312818   \n",
       "min                           55.000000                          0.000000   \n",
       "25%                           94.000000                          2.000000   \n",
       "50%                           97.000000                          4.000000   \n",
       "75%                           98.000000                          8.000000   \n",
       "max                          100.000000                         41.000000   \n",
       "\n",
       "       Part présents 3ème Segpa - Total  Nb mentions AB - G  \\\n",
       "count                       2809.000000        13237.000000   \n",
       "mean                          63.414026           22.083780   \n",
       "std                           31.012069           10.584919   \n",
       "min                            0.000000            0.000000   \n",
       "25%                           43.000000           14.000000   \n",
       "50%                           71.000000           21.000000   \n",
       "75%                           90.000000           28.000000   \n",
       "max                          100.000000          102.000000   \n",
       "\n",
       "       Nb mentions B - G  Nb mentions TB - G  Nb mentions global - G  \n",
       "count       13237.000000        13237.000000            13237.000000  \n",
       "mean           26.549143           32.624311               81.257234  \n",
       "std            14.464834           24.761978               41.291517  \n",
       "min             1.000000            0.000000                6.000000  \n",
       "25%            16.000000           16.000000               52.000000  \n",
       "50%            24.000000           27.000000               75.000000  \n",
       "75%            33.000000           42.000000              102.000000  \n",
       "max           192.000000          362.000000              468.000000  "
      ]
     },
     "execution_count": 9,
     "metadata": {},
     "output_type": "execute_result"
    }
   ],
   "source": [
    "college_resultat.describe()"
   ]
  },
  {
   "cell_type": "markdown",
   "metadata": {},
   "source": [
    "Le fichier fr-en-indicateurs-valeur-ajoutee-colleges.csv contient 24 colonnes.<br>\n",
    "<ul>\n",
    "  <li>la colonne session qui indique la date de l'examen</li>\n",
    "  <li>6 colonnes pour identifier l'établissement dont un numéro uai</li>\n",
    "  <li>2 colonnes qui indiquent le nombre de candidats qui passe l'examen(général et professionnel)</li>\n",
    "  <li>2 colonnes qui indiquent le taux de réussite</li>\n",
    "  <li>4 colonnes avec le taux de participation à l'examen (gen ,pro ,segpa ,total)</li>\n",
    "  <li>une colonne contenant le taux d'accès de la sixième à la troisième</li>\n",
    "  <li>4 colonnes avec le nombre de mentions</li>\n",
    "  <li>4 colonnes contiennent les valeurs ajoutées calculées par le ministère:<br>\n",
    "    _ la valeur ajoutée au taux de réussite aux brevets des collège généraux et professionnel.<br>\n",
    "    _ la valeur ajoutée aux notes du brevet\n",
    "  </li>\n",
    "</ul>\n"
   ]
  },
  {
   "cell_type": "markdown",
   "metadata": {},
   "source": [
    "# premier nettoyage\n",
    "<br>\n",
    "Standardiser les catégories public privé dans la colonne secteur.<br>\n",
    "Standardiser les rentrées scolaires<br>\n",
    "Voir pour réduire le nombre de colonnes des fichiers.<br>\n",
    "Collège voir pour agréger les classes. (langue séparé, est ce utile pour des stats générale ?)<br>\n"
   ]
  },
  {
   "cell_type": "code",
   "execution_count": 10,
   "metadata": {
    "execution": {
     "iopub.execute_input": "2024-04-21T12:07:54.403293Z",
     "iopub.status.busy": "2024-04-21T12:07:54.403137Z",
     "iopub.status.idle": "2024-04-21T12:07:54.406311Z",
     "shell.execute_reply": "2024-04-21T12:07:54.405975Z"
    }
   },
   "outputs": [],
   "source": [
    "# Les colleges de mayotte et de de guyane On des résultats inattendu selon la notice. Il ont mis ND à la place de certain taux\n",
    "# Certain éléve n avait pas de trace de leur passage en 6ieme, donc Il ont une valeur ND\n",
    "# Je passe ces valeur en Nan pour pouvoir travailler avec ces taux en numerique\n",
    "college_resultat[\"Taux d\\'accès 6ème-3ème\"] = college_resultat[\"Taux d\\'accès 6ème-3ème\"].replace(\"ND\",np.nan)\n",
    "college_resultat[\"Taux d\\'accès 6ème-3ème\"] = college_resultat[\"Taux d\\'accès 6ème-3ème\"].astype('float')"
   ]
  },
  {
   "cell_type": "code",
   "execution_count": 11,
   "metadata": {
    "execution": {
     "iopub.execute_input": "2024-04-21T12:07:54.408448Z",
     "iopub.status.busy": "2024-04-21T12:07:54.408264Z",
     "iopub.status.idle": "2024-04-21T12:07:54.411854Z",
     "shell.execute_reply": "2024-04-21T12:07:54.411547Z"
    }
   },
   "outputs": [],
   "source": [
    "college_resultat.rename(columns={'Session':'Rentrée scolaire'},inplace=True)\n",
    "college_resultat['Rentrée scolaire'] = college_resultat['Rentrée scolaire']-1"
   ]
  },
  {
   "cell_type": "code",
   "execution_count": 12,
   "metadata": {
    "execution": {
     "iopub.execute_input": "2024-04-21T12:07:54.413432Z",
     "iopub.status.busy": "2024-04-21T12:07:54.413168Z",
     "iopub.status.idle": "2024-04-21T12:07:54.416103Z",
     "shell.execute_reply": "2024-04-21T12:07:54.415811Z"
    }
   },
   "outputs": [],
   "source": [
    "# enlevé les colonne commune avant le merge\n",
    "college_resultat.drop(columns=[\"Nom de l'établissement\",'Commune','Département','Académie','Secteur',],inplace=True)"
   ]
  },
  {
   "cell_type": "markdown",
   "metadata": {},
   "source": [
    "Fichier résultat après nettoyage avant le merge :"
   ]
  },
  {
   "cell_type": "code",
   "execution_count": 13,
   "metadata": {
    "execution": {
     "iopub.execute_input": "2024-04-21T12:07:54.417568Z",
     "iopub.status.busy": "2024-04-21T12:07:54.417421Z",
     "iopub.status.idle": "2024-04-21T12:07:54.427233Z",
     "shell.execute_reply": "2024-04-21T12:07:54.426890Z"
    }
   },
   "outputs": [
    {
     "name": "stdout",
     "output_type": "stream",
     "text": [
      "<class 'pandas.core.frame.DataFrame'>\n",
      "RangeIndex: 13237 entries, 0 to 13236\n",
      "Data columns (total 19 columns):\n",
      " #   Column                                Non-Null Count  Dtype  \n",
      "---  ------                                --------------  -----  \n",
      " 0   Rentrée scolaire                      13237 non-null  int64  \n",
      " 1   UAI                                   13237 non-null  object \n",
      " 2   Nb candidats - G                      13237 non-null  int64  \n",
      " 3   Taux de réussite - G                  13237 non-null  float64\n",
      " 4   VA du taux de réussite - G            12712 non-null  float64\n",
      " 5   Nb candidats - P                      4013 non-null   float64\n",
      " 6   Taux de réussite - P                  4013 non-null   float64\n",
      " 7   Note à l'écrit - G                    13237 non-null  float64\n",
      " 8   VA de la note - G                     12712 non-null  float64\n",
      " 9   Note à l'écrit - P                    4013 non-null   float64\n",
      " 10  Taux d'accès 6ème-3ème                13216 non-null  float64\n",
      " 11  Part présents 3ème ordinaire - Total  13237 non-null  float64\n",
      " 12  Part présents 3ème ordinaire - G      6621 non-null   float64\n",
      " 13  Part présents 3ème ordinaire - P      2100 non-null   float64\n",
      " 14  Part présents 3ème Segpa - Total      2809 non-null   float64\n",
      " 15  Nb mentions AB - G                    13237 non-null  int64  \n",
      " 16  Nb mentions B - G                     13237 non-null  int64  \n",
      " 17  Nb mentions TB - G                    13237 non-null  int64  \n",
      " 18  Nb mentions global - G                13237 non-null  int64  \n",
      "dtypes: float64(12), int64(6), object(1)\n",
      "memory usage: 1.9+ MB\n"
     ]
    }
   ],
   "source": [
    "college_resultat.info()"
   ]
  },
  {
   "cell_type": "markdown",
   "metadata": {},
   "source": [
    "Les valeurs uniques de la colonne Secteur du fichiers stat :"
   ]
  },
  {
   "cell_type": "code",
   "execution_count": 14,
   "metadata": {
    "execution": {
     "iopub.execute_input": "2024-04-21T12:07:54.428823Z",
     "iopub.status.busy": "2024-04-21T12:07:54.428580Z",
     "iopub.status.idle": "2024-04-21T12:07:54.431119Z",
     "shell.execute_reply": "2024-04-21T12:07:54.430816Z"
    }
   },
   "outputs": [
    {
     "name": "stdout",
     "output_type": "stream",
     "text": [
      "['public' 'privé sous contrat']\n"
     ]
    }
   ],
   "source": [
    "print(collegue_stat['Secteur'].unique())"
   ]
  },
  {
   "cell_type": "code",
   "execution_count": 15,
   "metadata": {
    "execution": {
     "iopub.execute_input": "2024-04-21T12:07:54.432555Z",
     "iopub.status.busy": "2024-04-21T12:07:54.432322Z",
     "iopub.status.idle": "2024-04-21T12:07:54.435367Z",
     "shell.execute_reply": "2024-04-21T12:07:54.435099Z"
    }
   },
   "outputs": [],
   "source": [
    "# changement dans les data ecole_stat['secteur'] et college_stat['secteur']\n",
    "# Les valeurs doivent être PRIVE ou PUBLIC\n",
    "collegue_stat['Secteur'] = collegue_stat['Secteur'].replace({'public':'PUBLIC','privé sous contrat':'PRIVE'})"
   ]
  },
  {
   "cell_type": "markdown",
   "metadata": {},
   "source": [
    "Changement des valeurs uniques : Mettre tout en lettre capitale.<br>\n",
    "Valeurs uniques de la colonne rentrée scolaire du fichier stat :"
   ]
  },
  {
   "cell_type": "code",
   "execution_count": 16,
   "metadata": {
    "execution": {
     "iopub.execute_input": "2024-04-21T12:07:54.437488Z",
     "iopub.status.busy": "2024-04-21T12:07:54.437049Z",
     "iopub.status.idle": "2024-04-21T12:07:54.441283Z",
     "shell.execute_reply": "2024-04-21T12:07:54.440942Z"
    }
   },
   "outputs": [
    {
     "name": "stdout",
     "output_type": "stream",
     "text": [
      "['2022-2023']\n"
     ]
    }
   ],
   "source": [
    "print(collegue_stat['Rentrée scolaire'].unique())"
   ]
  },
  {
   "cell_type": "code",
   "execution_count": 17,
   "metadata": {
    "execution": {
     "iopub.execute_input": "2024-04-21T12:07:54.442654Z",
     "iopub.status.busy": "2024-04-21T12:07:54.442513Z",
     "iopub.status.idle": "2024-04-21T12:07:54.446735Z",
     "shell.execute_reply": "2024-04-21T12:07:54.446455Z"
    }
   },
   "outputs": [],
   "source": [
    "# remplacer dans les données ecoles_stat et college_stat colonne rentree_scolaire 2022-2023 par 2022\n",
    "collegue_stat['Rentrée scolaire'] = collegue_stat['Rentrée scolaire'].str[:4].astype('int')"
   ]
  },
  {
   "cell_type": "markdown",
   "metadata": {},
   "source": [
    "Affichage des valeurs uniques de la colonne Secteurs et de la colonne rentrée scolaire du fichier effectif : "
   ]
  },
  {
   "cell_type": "code",
   "execution_count": 18,
   "metadata": {
    "execution": {
     "iopub.execute_input": "2024-04-21T12:07:54.448062Z",
     "iopub.status.busy": "2024-04-21T12:07:54.447926Z",
     "iopub.status.idle": "2024-04-21T12:07:54.450989Z",
     "shell.execute_reply": "2024-04-21T12:07:54.450702Z"
    }
   },
   "outputs": [
    {
     "name": "stdout",
     "output_type": "stream",
     "text": [
      "['PUBLIC' 'PRIVE']\n"
     ]
    }
   ],
   "source": [
    "print(effectif_colleges['Secteur'].unique())"
   ]
  },
  {
   "cell_type": "code",
   "execution_count": 19,
   "metadata": {
    "execution": {
     "iopub.execute_input": "2024-04-21T12:07:54.452544Z",
     "iopub.status.busy": "2024-04-21T12:07:54.452201Z",
     "iopub.status.idle": "2024-04-21T12:07:54.456355Z",
     "shell.execute_reply": "2024-04-21T12:07:54.455798Z"
    }
   },
   "outputs": [
    {
     "name": "stdout",
     "output_type": "stream",
     "text": [
      "[2019 2020 2022 2021]\n"
     ]
    }
   ],
   "source": [
    "print(effectif_colleges['Rentrée scolaire'].unique())"
   ]
  },
  {
   "cell_type": "code",
   "execution_count": 20,
   "metadata": {
    "execution": {
     "iopub.execute_input": "2024-04-21T12:07:54.457985Z",
     "iopub.status.busy": "2024-04-21T12:07:54.457761Z",
     "iopub.status.idle": "2024-04-21T12:07:54.460739Z",
     "shell.execute_reply": "2024-04-21T12:07:54.460454Z"
    }
   },
   "outputs": [],
   "source": [
    "effectif_colleges.rename(columns={'Numéro du collège':'UAI'},inplace=True)"
   ]
  },
  {
   "cell_type": "code",
   "execution_count": 21,
   "metadata": {
    "execution": {
     "iopub.execute_input": "2024-04-21T12:07:54.462138Z",
     "iopub.status.busy": "2024-04-21T12:07:54.461982Z",
     "iopub.status.idle": "2024-04-21T12:07:54.489740Z",
     "shell.execute_reply": "2024-04-21T12:07:54.489265Z"
    }
   },
   "outputs": [],
   "source": [
    "# création fichier college\n",
    "fichier_college = pd.merge(effectif_colleges,collegue_stat,on=['Rentrée scolaire','UAI'],how='outer')"
   ]
  },
  {
   "cell_type": "code",
   "execution_count": 22,
   "metadata": {
    "execution": {
     "iopub.execute_input": "2024-04-21T12:07:54.491471Z",
     "iopub.status.busy": "2024-04-21T12:07:54.491273Z",
     "iopub.status.idle": "2024-04-21T12:07:54.539784Z",
     "shell.execute_reply": "2024-04-21T12:07:54.539310Z"
    }
   },
   "outputs": [
    {
     "name": "stdout",
     "output_type": "stream",
     "text": [
      "<class 'pandas.core.frame.DataFrame'>\n",
      "RangeIndex: 32982 entries, 0 to 32981\n",
      "Data columns (total 86 columns):\n",
      " #   Column                                      Non-Null Count  Dtype  \n",
      "---  ------                                      --------------  -----  \n",
      " 0   Rentrée scolaire                            32982 non-null  int64  \n",
      " 1   Région                                      32982 non-null  object \n",
      " 2   Académie_x                                  32982 non-null  object \n",
      " 3   Département_x                               32982 non-null  object \n",
      " 4   Commune                                     32982 non-null  object \n",
      " 5   UAI                                         32982 non-null  object \n",
      " 6   Dénomination principale                     32982 non-null  object \n",
      " 7   Patronyme                                   32927 non-null  object \n",
      " 8   Secteur_x                                   32982 non-null  object \n",
      " 9   REP                                         32982 non-null  int64  \n",
      " 10  REP +                                       32982 non-null  int64  \n",
      " 11  Nombre d'élèves total                       32982 non-null  int64  \n",
      " 12  Nombre d'élèves total hors Segpa hors ULIS  32982 non-null  int64  \n",
      " 13  Nombre d'élèves total Segpa                 32982 non-null  int64  \n",
      " 14  Nombre d'élèves total ULIS                  32982 non-null  int64  \n",
      " 15  6èmes total                                 32982 non-null  int64  \n",
      " 16  6èmes hors Segpa hors ULIS                  32982 non-null  int64  \n",
      " 17  6èmes Segpa                                 32982 non-null  int64  \n",
      " 18  6èmes ULIS                                  32982 non-null  int64  \n",
      " 19  6èmes filles                                32982 non-null  int64  \n",
      " 20  6èmes garçons                               32982 non-null  int64  \n",
      " 21  6èmes LV1 allemand                          32982 non-null  int64  \n",
      " 22  6èmes LV1 anglais                           32982 non-null  int64  \n",
      " 23  6èmes LV1 espagnol                          32982 non-null  int64  \n",
      " 24  6èmes LV1 autres langues                    32982 non-null  int64  \n",
      " 25  6èmes LV2 allemand                          32982 non-null  int64  \n",
      " 26  6èmes LV2 anglais                           32982 non-null  int64  \n",
      " 27  6èmes LV2 espagnol                          32982 non-null  int64  \n",
      " 28  6èmes LV2 italien                           32982 non-null  int64  \n",
      " 29  6ème LV2 autres langues                     32982 non-null  int64  \n",
      " 30  5èmes total                                 32982 non-null  int64  \n",
      " 31  5èmes hors Segpa hors ULIS                  32982 non-null  int64  \n",
      " 32  5èmes Segpa                                 32982 non-null  int64  \n",
      " 33  5èmes ULIS                                  32982 non-null  int64  \n",
      " 34  5èmes filles                                32982 non-null  int64  \n",
      " 35  5èmes garçons                               32982 non-null  int64  \n",
      " 36  5èmes LV1 allemand                          32982 non-null  int64  \n",
      " 37  5èmes LV1 anglais                           32982 non-null  int64  \n",
      " 38  5èmes LV1 espagnol                          32982 non-null  int64  \n",
      " 39  5èmes LV1 autres langues                    32982 non-null  int64  \n",
      " 40  5èmes LV2 allemand                          32982 non-null  int64  \n",
      " 41  5èmes LV2 anglais                           32982 non-null  int64  \n",
      " 42  5èmes LV2 espagnol                          32982 non-null  int64  \n",
      " 43  5èmes LV2 italien                           32982 non-null  int64  \n",
      " 44  5èmes LV2 autres langues                    32982 non-null  int64  \n",
      " 45  4èmes total                                 32982 non-null  int64  \n",
      " 46  4èmes hors Segpa hors ULIS                  32982 non-null  int64  \n",
      " 47  4èmes Segpa                                 32982 non-null  int64  \n",
      " 48  4èmes ULIS                                  32982 non-null  int64  \n",
      " 49  4èmes filles                                32982 non-null  int64  \n",
      " 50  4èmes garçons                               32982 non-null  int64  \n",
      " 51  4èmes LV1 allemand                          32982 non-null  int64  \n",
      " 52  4èmes LV1 anglais                           32982 non-null  int64  \n",
      " 53  4èmes LV1 espagnol                          32982 non-null  int64  \n",
      " 54  4èmes LV1 autres langues                    32982 non-null  int64  \n",
      " 55  4èmes LV2 allemand                          32982 non-null  int64  \n",
      " 56  4èmes LV2 anglais                           32982 non-null  int64  \n",
      " 57  4èmes LV2 espagnol                          32982 non-null  int64  \n",
      " 58  4èmes LV2 italien                           32982 non-null  int64  \n",
      " 59  4èmes LV2 autres langues                    32982 non-null  int64  \n",
      " 60  3èmes total                                 32982 non-null  int64  \n",
      " 61  3èmes hors Segpa hors ULIS                  32982 non-null  int64  \n",
      " 62  3èmes Segpa                                 32982 non-null  int64  \n",
      " 63  3èmes ULIS                                  32982 non-null  int64  \n",
      " 64  3èmes filles                                32982 non-null  int64  \n",
      " 65  3èmes garçons                               32982 non-null  int64  \n",
      " 66  3èmes LV1 allemand                          32982 non-null  int64  \n",
      " 67  3èmes LV1 anglais                           32982 non-null  int64  \n",
      " 68  3èmes LV1 espagnol                          32982 non-null  int64  \n",
      " 69  3èmes LV1 autres langues                    32982 non-null  int64  \n",
      " 70  3èmes LV2 allemand                          32982 non-null  int64  \n",
      " 71  3èmes LV2 anglais                           32982 non-null  int64  \n",
      " 72  3èmes LV2 espagnol                          32982 non-null  int64  \n",
      " 73  3èmes LV2 italien                           32982 non-null  int64  \n",
      " 74  3èmes LV2 autres langues                    32982 non-null  int64  \n",
      " 75  Code postal                                 32862 non-null  float64\n",
      " 76  Académie_y                                  6973 non-null   object \n",
      " 77  Code du département                         6973 non-null   object \n",
      " 78  Département_y                               6973 non-null   object \n",
      " 79  Nom de l'établissment                       6973 non-null   object \n",
      " 80  Code INSEE de la commune                    6973 non-null   object \n",
      " 81  Nom de la commune                           6973 non-null   object \n",
      " 82  Secteur_y                                   6973 non-null   object \n",
      " 83  Effectifs                                   6973 non-null   float64\n",
      " 84  IPS                                         6973 non-null   float64\n",
      " 85  Ecart-type de l'IPS                         6973 non-null   float64\n",
      "dtypes: float64(4), int64(67), object(15)\n",
      "memory usage: 21.6+ MB\n"
     ]
    }
   ],
   "source": [
    "fichier_college.info()"
   ]
  },
  {
   "cell_type": "code",
   "execution_count": 23,
   "metadata": {
    "execution": {
     "iopub.execute_input": "2024-04-21T12:07:54.541470Z",
     "iopub.status.busy": "2024-04-21T12:07:54.541220Z",
     "iopub.status.idle": "2024-04-21T12:07:54.550419Z",
     "shell.execute_reply": "2024-04-21T12:07:54.550098Z"
    }
   },
   "outputs": [],
   "source": [
    "# supprime les colonnes en trop (doublons)\n",
    "fichier_college.drop(columns=['Académie_y','Département_y','Secteur_y'],inplace=True)\n",
    "# renomme les colonnes avec un _x\n",
    "fichier_college.rename(columns={'Académie_x':'Académie','Département_x':'Département','Secteur_x':'Secteur'},inplace=True)"
   ]
  },
  {
   "cell_type": "code",
   "execution_count": 24,
   "metadata": {
    "execution": {
     "iopub.execute_input": "2024-04-21T12:07:54.551975Z",
     "iopub.status.busy": "2024-04-21T12:07:54.551800Z",
     "iopub.status.idle": "2024-04-21T12:07:54.769352Z",
     "shell.execute_reply": "2024-04-21T12:07:54.768804Z"
    }
   },
   "outputs": [],
   "source": [
    "#enlevé les langues\n",
    "fichier_college['6èmes LV2 autres langues'] = \"\" \n",
    "langue = ['èmes LV1 allemand','èmes LV1 anglais','èmes LV1 espagnol','èmes LV1 autres langues','èmes LV2 allemand','èmes LV2 anglais','èmes LV2 espagnol','èmes LV2 italien','èmes LV2 autres langues']\n",
    "for a in range(3,7,1):\n",
    "    for b in langue:\n",
    "        fichier_college.drop(columns=str(a)+b,inplace=True)\n"
   ]
  },
  {
   "cell_type": "code",
   "execution_count": 25,
   "metadata": {
    "execution": {
     "iopub.execute_input": "2024-04-21T12:07:54.772657Z",
     "iopub.status.busy": "2024-04-21T12:07:54.772356Z",
     "iopub.status.idle": "2024-04-21T12:07:54.796754Z",
     "shell.execute_reply": "2024-04-21T12:07:54.796312Z"
    }
   },
   "outputs": [],
   "source": [
    "fichier_college = pd.merge(fichier_college,college_resultat,on=['Rentrée scolaire','UAI'],how='outer')"
   ]
  },
  {
   "cell_type": "markdown",
   "metadata": {},
   "source": [
    "Je rajoute des colonnes précalculées pour l'analyse.<br>\n",
    "Je supprime les colonnes 'Nom de la commune',\"Nom de l'établissment\",'Code du département' qui font doublons.<br>\n",
    "Le fichier envoyé pour analyse :"
   ]
  },
  {
   "cell_type": "code",
   "execution_count": 26,
   "metadata": {
    "execution": {
     "iopub.execute_input": "2024-04-21T12:07:54.798498Z",
     "iopub.status.busy": "2024-04-21T12:07:54.798263Z",
     "iopub.status.idle": "2024-04-21T12:07:54.808067Z",
     "shell.execute_reply": "2024-04-21T12:07:54.807723Z"
    }
   },
   "outputs": [],
   "source": [
    "fichier_college.drop(columns=['Nom de la commune',\"Nom de l'établissment\",'Code du département'],inplace=True)"
   ]
  },
  {
   "cell_type": "code",
   "execution_count": 27,
   "metadata": {
    "execution": {
     "iopub.execute_input": "2024-04-21T12:07:54.809739Z",
     "iopub.status.busy": "2024-04-21T12:07:54.809440Z",
     "iopub.status.idle": "2024-04-21T12:07:54.812307Z",
     "shell.execute_reply": "2024-04-21T12:07:54.812016Z"
    }
   },
   "outputs": [],
   "source": [
    "fichier_college[\"Pourcentage Ulis sur le nombre d'eleves total\"] = fichier_college[\"Nombre d\\'élèves total ULIS\"]/fichier_college[\"Nombre d\\'élèves total\"]*100"
   ]
  },
  {
   "cell_type": "code",
   "execution_count": 28,
   "metadata": {
    "execution": {
     "iopub.execute_input": "2024-04-21T12:07:54.813657Z",
     "iopub.status.busy": "2024-04-21T12:07:54.813525Z",
     "iopub.status.idle": "2024-04-21T12:07:54.845116Z",
     "shell.execute_reply": "2024-04-21T12:07:54.844832Z"
    }
   },
   "outputs": [
    {
     "name": "stdout",
     "output_type": "stream",
     "text": [
      "<class 'pandas.core.frame.DataFrame'>\n",
      "RangeIndex: 32984 entries, 0 to 32983\n",
      "Data columns (total 63 columns):\n",
      " #   Column                                         Non-Null Count  Dtype  \n",
      "---  ------                                         --------------  -----  \n",
      " 0   Rentrée scolaire                               32984 non-null  int64  \n",
      " 1   Région                                         32982 non-null  object \n",
      " 2   Académie                                       32982 non-null  object \n",
      " 3   Département                                    32982 non-null  object \n",
      " 4   Commune                                        32982 non-null  object \n",
      " 5   UAI                                            32984 non-null  object \n",
      " 6   Dénomination principale                        32982 non-null  object \n",
      " 7   Patronyme                                      32927 non-null  object \n",
      " 8   Secteur                                        32982 non-null  object \n",
      " 9   REP                                            32982 non-null  float64\n",
      " 10  REP +                                          32982 non-null  float64\n",
      " 11  Nombre d'élèves total                          32982 non-null  float64\n",
      " 12  Nombre d'élèves total hors Segpa hors ULIS     32982 non-null  float64\n",
      " 13  Nombre d'élèves total Segpa                    32982 non-null  float64\n",
      " 14  Nombre d'élèves total ULIS                     32982 non-null  float64\n",
      " 15  6èmes total                                    32982 non-null  float64\n",
      " 16  6èmes hors Segpa hors ULIS                     32982 non-null  float64\n",
      " 17  6èmes Segpa                                    32982 non-null  float64\n",
      " 18  6èmes ULIS                                     32982 non-null  float64\n",
      " 19  6èmes filles                                   32982 non-null  float64\n",
      " 20  6èmes garçons                                  32982 non-null  float64\n",
      " 21  6ème LV2 autres langues                        32982 non-null  float64\n",
      " 22  5èmes total                                    32982 non-null  float64\n",
      " 23  5èmes hors Segpa hors ULIS                     32982 non-null  float64\n",
      " 24  5èmes Segpa                                    32982 non-null  float64\n",
      " 25  5èmes ULIS                                     32982 non-null  float64\n",
      " 26  5èmes filles                                   32982 non-null  float64\n",
      " 27  5èmes garçons                                  32982 non-null  float64\n",
      " 28  4èmes total                                    32982 non-null  float64\n",
      " 29  4èmes hors Segpa hors ULIS                     32982 non-null  float64\n",
      " 30  4èmes Segpa                                    32982 non-null  float64\n",
      " 31  4èmes ULIS                                     32982 non-null  float64\n",
      " 32  4èmes filles                                   32982 non-null  float64\n",
      " 33  4èmes garçons                                  32982 non-null  float64\n",
      " 34  3èmes total                                    32982 non-null  float64\n",
      " 35  3èmes hors Segpa hors ULIS                     32982 non-null  float64\n",
      " 36  3èmes Segpa                                    32982 non-null  float64\n",
      " 37  3èmes ULIS                                     32982 non-null  float64\n",
      " 38  3èmes filles                                   32982 non-null  float64\n",
      " 39  3èmes garçons                                  32982 non-null  float64\n",
      " 40  Code postal                                    32862 non-null  float64\n",
      " 41  Code INSEE de la commune                       6973 non-null   object \n",
      " 42  Effectifs                                      6973 non-null   float64\n",
      " 43  IPS                                            6973 non-null   float64\n",
      " 44  Ecart-type de l'IPS                            6973 non-null   float64\n",
      " 45  Nb candidats - G                               13237 non-null  float64\n",
      " 46  Taux de réussite - G                           13237 non-null  float64\n",
      " 47  VA du taux de réussite - G                     12712 non-null  float64\n",
      " 48  Nb candidats - P                               4013 non-null   float64\n",
      " 49  Taux de réussite - P                           4013 non-null   float64\n",
      " 50  Note à l'écrit - G                             13237 non-null  float64\n",
      " 51  VA de la note - G                              12712 non-null  float64\n",
      " 52  Note à l'écrit - P                             4013 non-null   float64\n",
      " 53  Taux d'accès 6ème-3ème                         13216 non-null  float64\n",
      " 54  Part présents 3ème ordinaire - Total           13237 non-null  float64\n",
      " 55  Part présents 3ème ordinaire - G               6621 non-null   float64\n",
      " 56  Part présents 3ème ordinaire - P               2100 non-null   float64\n",
      " 57  Part présents 3ème Segpa - Total               2809 non-null   float64\n",
      " 58  Nb mentions AB - G                             13237 non-null  float64\n",
      " 59  Nb mentions B - G                              13237 non-null  float64\n",
      " 60  Nb mentions TB - G                             13237 non-null  float64\n",
      " 61  Nb mentions global - G                         13237 non-null  float64\n",
      " 62  Pourcentage Ulis sur le nombre d'eleves total  32982 non-null  float64\n",
      "dtypes: float64(53), int64(1), object(9)\n",
      "memory usage: 15.9+ MB\n"
     ]
    }
   ],
   "source": [
    "fichier_college.info()"
   ]
  },
  {
   "cell_type": "code",
   "execution_count": 29,
   "metadata": {
    "execution": {
     "iopub.execute_input": "2024-04-21T12:07:54.846525Z",
     "iopub.status.busy": "2024-04-21T12:07:54.846404Z",
     "iopub.status.idle": "2024-04-21T12:07:55.398791Z",
     "shell.execute_reply": "2024-04-21T12:07:55.398376Z"
    }
   },
   "outputs": [],
   "source": [
    "fichier_college.to_csv(\"donnee_temp/college.csv\",index=False)"
   ]
  }
 ],
 "metadata": {
  "kernelspec": {
   "display_name": "Python 3 (ipykernel)",
   "language": "python",
   "name": "python3"
  },
  "language_info": {
   "codemirror_mode": {
    "name": "ipython",
    "version": 3
   },
   "file_extension": ".py",
   "mimetype": "text/x-python",
   "name": "python",
   "nbconvert_exporter": "python",
   "pygments_lexer": "ipython3",
   "version": "3.11.8"
  }
 },
 "nbformat": 4,
 "nbformat_minor": 2
}
