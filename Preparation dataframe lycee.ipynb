{
 "cells": [
  {
   "cell_type": "markdown",
   "metadata": {},
   "source": [
    "# Analyse de base des fichiers concernant les lycées\n"
   ]
  },
  {
   "cell_type": "markdown",
   "metadata": {},
   "source": [
    "Objectif : faire un fichier pour lancer des analyses."
   ]
  },
  {
   "cell_type": "code",
   "execution_count": 1,
   "metadata": {
    "execution": {
     "iopub.execute_input": "2024-04-21T12:08:00.907190Z",
     "iopub.status.busy": "2024-04-21T12:08:00.906684Z",
     "iopub.status.idle": "2024-04-21T12:08:01.626189Z",
     "shell.execute_reply": "2024-04-21T12:08:01.625742Z"
    }
   },
   "outputs": [],
   "source": [
    "# import bibliothéques d'analyse de python\n",
    "import pandas as pd\n",
    "import numpy as np\n"
   ]
  },
  {
   "cell_type": "code",
   "execution_count": 2,
   "metadata": {
    "execution": {
     "iopub.execute_input": "2024-04-21T12:08:01.628151Z",
     "iopub.status.busy": "2024-04-21T12:08:01.627936Z",
     "iopub.status.idle": "2024-04-21T12:08:02.192326Z",
     "shell.execute_reply": "2024-04-21T12:08:02.191993Z"
    }
   },
   "outputs": [],
   "source": [
    "ips_lycee = pd.read_csv('donnee/fr-en-ips-lycees-ap2022.csv',sep=';')\n",
    "va_lycee_gen = pd.read_csv('donnee/fr-en-indicateurs-de-resultat-des-lycees-denseignement-general-et-technologique.csv',sep=';',low_memory=False)\n",
    "va_lycee_pro = pd.read_csv('donnee/fr-en-indicateurs-de-resultat-des-lycees-denseignement-professionnels.csv',sep=';',low_memory=False)"
   ]
  },
  {
   "cell_type": "markdown",
   "metadata": {},
   "source": [
    "## Affichage des fichiers bruts"
   ]
  },
  {
   "cell_type": "code",
   "execution_count": 3,
   "metadata": {
    "execution": {
     "iopub.execute_input": "2024-04-21T12:08:02.194142Z",
     "iopub.status.busy": "2024-04-21T12:08:02.194006Z",
     "iopub.status.idle": "2024-04-21T12:08:02.205057Z",
     "shell.execute_reply": "2024-04-21T12:08:02.204731Z"
    }
   },
   "outputs": [
    {
     "data": {
      "text/html": [
       "<div>\n",
       "<style scoped>\n",
       "    .dataframe tbody tr th:only-of-type {\n",
       "        vertical-align: middle;\n",
       "    }\n",
       "\n",
       "    .dataframe tbody tr th {\n",
       "        vertical-align: top;\n",
       "    }\n",
       "\n",
       "    .dataframe thead th {\n",
       "        text-align: right;\n",
       "    }\n",
       "</style>\n",
       "<table border=\"1\" class=\"dataframe\">\n",
       "  <thead>\n",
       "    <tr style=\"text-align: right;\">\n",
       "      <th></th>\n",
       "      <th>Rentrée scolaire</th>\n",
       "      <th>Académie</th>\n",
       "      <th>Code du département</th>\n",
       "      <th>Département</th>\n",
       "      <th>UAI</th>\n",
       "      <th>Nom de l'établissment</th>\n",
       "      <th>Code INSEE de la commune</th>\n",
       "      <th>Nom de la commune</th>\n",
       "      <th>Secteur</th>\n",
       "      <th>Type de lycée</th>\n",
       "      <th>Effectifs voie GT</th>\n",
       "      <th>Effectifs voie PRO</th>\n",
       "      <th>Effectifs Ensemble GT-PRO</th>\n",
       "      <th>IPS voie GT</th>\n",
       "      <th>IPS voie PRO</th>\n",
       "      <th>IPS Ensemble GT-PRO</th>\n",
       "      <th>Ecart-type de l'IPS voie GT</th>\n",
       "      <th>Ecart-type de l'IPS voie PRO</th>\n",
       "    </tr>\n",
       "  </thead>\n",
       "  <tbody>\n",
       "    <tr>\n",
       "      <th>0</th>\n",
       "      <td>2022-2023</td>\n",
       "      <td>LYON</td>\n",
       "      <td>001</td>\n",
       "      <td>AIN</td>\n",
       "      <td>0010021T</td>\n",
       "      <td>LYCEE PROFESSIONNEL MARCELLE PARDE LYCEE DES M...</td>\n",
       "      <td>01053</td>\n",
       "      <td>BOURG EN BRESSE</td>\n",
       "      <td>public</td>\n",
       "      <td>LP</td>\n",
       "      <td>NaN</td>\n",
       "      <td>520.0</td>\n",
       "      <td>520.0</td>\n",
       "      <td>NaN</td>\n",
       "      <td>86.5</td>\n",
       "      <td>86.5</td>\n",
       "      <td>NaN</td>\n",
       "      <td>24.3</td>\n",
       "    </tr>\n",
       "  </tbody>\n",
       "</table>\n",
       "</div>"
      ],
      "text/plain": [
       "  Rentrée scolaire Académie Code du département Département       UAI  \\\n",
       "0        2022-2023     LYON                 001         AIN  0010021T   \n",
       "\n",
       "                               Nom de l'établissment Code INSEE de la commune  \\\n",
       "0  LYCEE PROFESSIONNEL MARCELLE PARDE LYCEE DES M...                    01053   \n",
       "\n",
       "  Nom de la commune Secteur Type de lycée  Effectifs voie GT  \\\n",
       "0   BOURG EN BRESSE  public            LP                NaN   \n",
       "\n",
       "   Effectifs voie PRO  Effectifs Ensemble GT-PRO  IPS voie GT  IPS voie PRO  \\\n",
       "0               520.0                      520.0          NaN          86.5   \n",
       "\n",
       "   IPS Ensemble GT-PRO  Ecart-type de l'IPS voie GT  \\\n",
       "0                 86.5                          NaN   \n",
       "\n",
       "   Ecart-type de l'IPS voie PRO  \n",
       "0                          24.3  "
      ]
     },
     "execution_count": 3,
     "metadata": {},
     "output_type": "execute_result"
    }
   ],
   "source": [
    "ips_lycee.head(1)"
   ]
  },
  {
   "cell_type": "code",
   "execution_count": 4,
   "metadata": {
    "execution": {
     "iopub.execute_input": "2024-04-21T12:08:02.206779Z",
     "iopub.status.busy": "2024-04-21T12:08:02.206493Z",
     "iopub.status.idle": "2024-04-21T12:08:02.216596Z",
     "shell.execute_reply": "2024-04-21T12:08:02.215617Z"
    }
   },
   "outputs": [
    {
     "name": "stdout",
     "output_type": "stream",
     "text": [
      "<class 'pandas.core.frame.DataFrame'>\n",
      "RangeIndex: 3598 entries, 0 to 3597\n",
      "Data columns (total 18 columns):\n",
      " #   Column                        Non-Null Count  Dtype  \n",
      "---  ------                        --------------  -----  \n",
      " 0   Rentrée scolaire              3598 non-null   object \n",
      " 1   Académie                      3598 non-null   object \n",
      " 2   Code du département           3598 non-null   object \n",
      " 3   Département                   3598 non-null   object \n",
      " 4   UAI                           3598 non-null   object \n",
      " 5   Nom de l'établissment         3598 non-null   object \n",
      " 6   Code INSEE de la commune      3598 non-null   object \n",
      " 7   Nom de la commune             3598 non-null   object \n",
      " 8   Secteur                       3598 non-null   object \n",
      " 9   Type de lycée                 3598 non-null   object \n",
      " 10  Effectifs voie GT             2464 non-null   float64\n",
      " 11  Effectifs voie PRO            2075 non-null   float64\n",
      " 12  Effectifs Ensemble GT-PRO     3598 non-null   float64\n",
      " 13  IPS voie GT                   2464 non-null   float64\n",
      " 14  IPS voie PRO                  2075 non-null   float64\n",
      " 15  IPS Ensemble GT-PRO           3598 non-null   float64\n",
      " 16  Ecart-type de l'IPS voie GT   2464 non-null   float64\n",
      " 17  Ecart-type de l'IPS voie PRO  2075 non-null   float64\n",
      "dtypes: float64(8), object(10)\n",
      "memory usage: 506.1+ KB\n"
     ]
    }
   ],
   "source": [
    "ips_lycee.info()"
   ]
  },
  {
   "cell_type": "markdown",
   "metadata": {},
   "source": [
    "Le fichier fr-en-ips-lycees-ap2022.csv contient 18 colonnes<br>\n",
    "<ul>\n",
    "  <li>10 colonnes pour décrire le lycée (adresse, type de lycée,...)</li>\n",
    "  <li>une colonne qui indique la rentrée au format XXXX-YYYY</li>\n",
    "  <li>3 colonnes qui décrivent les effectifs général, professionnel et totaux</li>\n",
    "  <li>5 colonnes pour décrire l'IPS selon le cursus général ou pro, ainsi que l'écart-type</li>\n",
    "</ul>\n",
    "\n",
    "On va créer un carnet d'adresses avec le numéro uai à partir de ce fichier.<br>\n",
    "On va reformater la colonne rentrée scolaire. (passée de XXXX-YYYY à XXXX)"
   ]
  },
  {
   "cell_type": "code",
   "execution_count": 5,
   "metadata": {
    "execution": {
     "iopub.execute_input": "2024-04-21T12:08:02.218466Z",
     "iopub.status.busy": "2024-04-21T12:08:02.218124Z",
     "iopub.status.idle": "2024-04-21T12:08:02.227412Z",
     "shell.execute_reply": "2024-04-21T12:08:02.227078Z"
    }
   },
   "outputs": [
    {
     "data": {
      "text/html": [
       "<div>\n",
       "<style scoped>\n",
       "    .dataframe tbody tr th:only-of-type {\n",
       "        vertical-align: middle;\n",
       "    }\n",
       "\n",
       "    .dataframe tbody tr th {\n",
       "        vertical-align: top;\n",
       "    }\n",
       "\n",
       "    .dataframe thead th {\n",
       "        text-align: right;\n",
       "    }\n",
       "</style>\n",
       "<table border=\"1\" class=\"dataframe\">\n",
       "  <thead>\n",
       "    <tr style=\"text-align: right;\">\n",
       "      <th></th>\n",
       "      <th>Etablissement</th>\n",
       "      <th>Annee</th>\n",
       "      <th>Ville</th>\n",
       "      <th>UAI</th>\n",
       "      <th>Code commune</th>\n",
       "      <th>Academie</th>\n",
       "      <th>Departement</th>\n",
       "      <th>Secteur</th>\n",
       "      <th>Presents - L</th>\n",
       "      <th>Presents - ES</th>\n",
       "      <th>...</th>\n",
       "      <th>Taux de mentions - Gnle</th>\n",
       "      <th>Valeur ajoutée du taux de mentions - Gnle</th>\n",
       "      <th>Nombre de mentions TB avec félicitations - G</th>\n",
       "      <th>Nombre de mentions TB sans félicitations - G</th>\n",
       "      <th>Nombre de mentions B - G</th>\n",
       "      <th>Nombre de mentions AB - G</th>\n",
       "      <th>Nombre de mentions TB avec félicitations - T</th>\n",
       "      <th>Nombre de mentions TB sans félicitations - T</th>\n",
       "      <th>Nombre de mentions B - T</th>\n",
       "      <th>Nombre de mentions AB - T</th>\n",
       "    </tr>\n",
       "  </thead>\n",
       "  <tbody>\n",
       "    <tr>\n",
       "      <th>0</th>\n",
       "      <td>LYCEE XAVIER BICHAT (GENERAL ET TECHNO.)</td>\n",
       "      <td>2021</td>\n",
       "      <td>NANTUA</td>\n",
       "      <td>0010032E</td>\n",
       "      <td>01269</td>\n",
       "      <td>LYON</td>\n",
       "      <td>AIN</td>\n",
       "      <td>public</td>\n",
       "      <td>NaN</td>\n",
       "      <td>NaN</td>\n",
       "      <td>...</td>\n",
       "      <td>70.0</td>\n",
       "      <td>-7</td>\n",
       "      <td>NaN</td>\n",
       "      <td>NaN</td>\n",
       "      <td>NaN</td>\n",
       "      <td>NaN</td>\n",
       "      <td>NaN</td>\n",
       "      <td>NaN</td>\n",
       "      <td>NaN</td>\n",
       "      <td>NaN</td>\n",
       "    </tr>\n",
       "  </tbody>\n",
       "</table>\n",
       "<p>1 rows × 145 columns</p>\n",
       "</div>"
      ],
      "text/plain": [
       "                              Etablissement  Annee   Ville       UAI  \\\n",
       "0  LYCEE XAVIER BICHAT (GENERAL ET TECHNO.)   2021  NANTUA  0010032E   \n",
       "\n",
       "  Code commune Academie Departement Secteur  Presents - L  Presents - ES  ...  \\\n",
       "0        01269     LYON         AIN  public           NaN            NaN  ...   \n",
       "\n",
       "   Taux de mentions - Gnle  Valeur ajoutée du taux de mentions - Gnle  \\\n",
       "0                     70.0                                         -7   \n",
       "\n",
       "   Nombre de mentions TB avec félicitations - G  \\\n",
       "0                                           NaN   \n",
       "\n",
       "   Nombre de mentions TB sans félicitations - G  Nombre de mentions B - G  \\\n",
       "0                                           NaN                       NaN   \n",
       "\n",
       "   Nombre de mentions AB - G  Nombre de mentions TB avec félicitations - T  \\\n",
       "0                        NaN                                           NaN   \n",
       "\n",
       "   Nombre de mentions TB sans félicitations - T  Nombre de mentions B - T  \\\n",
       "0                                           NaN                       NaN   \n",
       "\n",
       "   Nombre de mentions AB - T  \n",
       "0                        NaN  \n",
       "\n",
       "[1 rows x 145 columns]"
      ]
     },
     "execution_count": 5,
     "metadata": {},
     "output_type": "execute_result"
    }
   ],
   "source": [
    "va_lycee_gen.head(1)"
   ]
  },
  {
   "cell_type": "code",
   "execution_count": 6,
   "metadata": {
    "execution": {
     "iopub.execute_input": "2024-04-21T12:08:02.228824Z",
     "iopub.status.busy": "2024-04-21T12:08:02.228706Z",
     "iopub.status.idle": "2024-04-21T12:08:02.235244Z",
     "shell.execute_reply": "2024-04-21T12:08:02.234958Z"
    }
   },
   "outputs": [
    {
     "name": "stdout",
     "output_type": "stream",
     "text": [
      "<class 'pandas.core.frame.DataFrame'>\n",
      "RangeIndex: 27808 entries, 0 to 27807\n",
      "Columns: 145 entries, Etablissement to Nombre de mentions AB - T\n",
      "dtypes: float64(80), int64(3), object(62)\n",
      "memory usage: 30.8+ MB\n"
     ]
    }
   ],
   "source": [
    "va_lycee_gen.info()"
   ]
  },
  {
   "cell_type": "markdown",
   "metadata": {},
   "source": [
    "Le fichier fr-en-indicateurs-de-resultat-des-lycees-denseignement-general-et-technologique.csv contient les 145 colonnes suivantes :"
   ]
  },
  {
   "cell_type": "code",
   "execution_count": 7,
   "metadata": {
    "execution": {
     "iopub.execute_input": "2024-04-21T12:08:02.236646Z",
     "iopub.status.busy": "2024-04-21T12:08:02.236508Z",
     "iopub.status.idle": "2024-04-21T12:08:02.239249Z",
     "shell.execute_reply": "2024-04-21T12:08:02.238885Z"
    }
   },
   "outputs": [
    {
     "name": "stdout",
     "output_type": "stream",
     "text": [
      "Etablissement\n",
      "Annee\n",
      "Ville\n",
      "UAI\n",
      "Code commune\n",
      "Academie\n",
      "Departement\n",
      "Secteur\n",
      "Presents - L\n",
      "Presents - ES\n",
      "Presents - S\n",
      "Presents - STG\n",
      "Presents - STI2D\n",
      "Presents - STD2A\n",
      "Presents - STMG\n",
      "Presents - STI\n",
      "Presents - STL\n",
      "Presents - ST2S\n",
      "Presents - TMD\n",
      "Presents - STHR\n",
      "Presents - Toutes series\n",
      "Taux de reussite - L\n",
      "Taux de reussite - ES\n",
      "Taux de reussite - S\n",
      "Taux de reussite - STG\n",
      "Taux de reussite - STI2D\n",
      "Taux de reussite - STD2A\n",
      "Taux de reussite - STMG\n",
      "Taux de reussite - STI\n",
      "Taux de reussite - STL\n",
      "Taux de reussite - ST2S\n",
      "Taux de reussite - TMD\n",
      "Taux de reussite - STHR\n",
      "Taux de reussite - Toutes series\n",
      "Taux de reussite attendu acad - L\n",
      "Taux de reussite attendu acad - ES\n",
      "Taux de reussite attendu acad - S\n",
      "Taux de reussite attendu acad - STG\n",
      "Taux de reussite attendu acad - STI2D\n",
      "Taux de reussite attendu acad - STD2A\n",
      "Taux de reussite attendu acad - STMG\n",
      "Taux de reussite attendu acad - STI\n",
      "Taux de reussite attendu acad - STL\n",
      "Taux de reussite attendu acad - ST2S\n",
      "Taux de reussite attendu acad - TMD\n",
      "Taux de reussite attendu acad - STHR\n",
      "Taux de reussite attendu acad - Toutes series\n",
      "Taux de reussite attendu france - L\n",
      "Taux de reussite attendu france - ES\n",
      "Taux de reussite attendu france - S\n",
      "Taux de reussite attendu france - STG\n",
      "Taux de reussite attendu france - STI2D\n",
      "Taux de reussite attendu france - STD2A\n",
      "Taux de reussite attendu france - STMG\n",
      "Taux de reussite attendu france - STI\n",
      "Taux de reussite attendu france - STL\n",
      "Taux de reussite attendu france - ST2S\n",
      "Taux de reussite attendu france - TMD\n",
      "Taux de reussite attendu france - STHR\n",
      "Taux de reussite attendu france - Toutes series\n",
      "Taux de mentions - L\n",
      "Taux de mentions - ES\n",
      "Taux de mentions - S\n",
      "Taux de mentions - STI2D\n",
      "Taux de mentions - STD2A\n",
      "Taux de mentions - STMG\n",
      "Taux de mentions - STL\n",
      "Taux de mentions - ST2S\n",
      "Taux de mentions - TMD\n",
      "Taux de mentions - STHR\n",
      "Taux de mentions - Toutes series\n",
      "Taux de mentions attendu - L\n",
      "Taux de mentions attendu - ES\n",
      "Taux de mentions attendu - S\n",
      "Taux de mentions attendu - STI2D\n",
      "Taux de mentions attendu - STD2A\n",
      "Taux de mentions attendu - STMG\n",
      "Taux de mentions attendu - STL\n",
      "Taux de mentions attendu - ST2S\n",
      "Taux de mentions attendu - TMD\n",
      "Taux de mentions attendu - STHR\n",
      "Taux de mentions attendu - Toutes series\n",
      "Structure pedagogique 5 groupes\n",
      "Structure pedagogique 7 groupes\n",
      "Pourcentage bacheliers sortants 2de 1re Terminale Etablissement\n",
      "Pourcentage bacheliers sortants Terminales Etablissement\n",
      "Pourcentage bacheliers sortants 2de 1re Terminale Acad\n",
      "Pourcentage bacheliers sortants Terminale Acad\n",
      "Pourcentage bacheliers sortants 2de 1re Terminale France\n",
      "Pourcentage bacheliers sortants Terminale France\n",
      "Effectif de seconde\n",
      "Effectif de premiere\n",
      "Effectif de terminale\n",
      "Taux d'acces 2nde-bac\n",
      "Taux d'acces attendu acad 2nde-bac\n",
      "Taux d'acces attendu france 2nde-bac\n",
      "Taux d'acces 1ere-bac\n",
      "Taux d'acces attendu acad 1ere-bac\n",
      "Taux d'acces attendu france 1ere-bac\n",
      "Taux d'acces terminale-bac\n",
      "Taux d'acces attendu france terminale-bac\n",
      "Region\n",
      "Code region\n",
      "Code departement\n",
      "Libelle departement\n",
      "Valeur ajoutee du taux de reussite - Toutes series\n",
      "Valeur ajoutee du taux d'acces 2nde-bac\n",
      "Valeur ajoutee du taux de mentions - Toutes series\n",
      "Valeur ajoutee du taux de reussite - L\n",
      "Valeur ajoutee du taux de reussite - ES\n",
      "Valeur ajoutee du taux de reussite - S\n",
      "Valeur ajoutee du taux de reussite - STG\n",
      "Valeur ajoutee du taux de reussite - STI2D\n",
      "Valeur ajoutee du taux de reussite - STD2A\n",
      "Valeur ajoutee du taux de reussite - STMG\n",
      "Valeur ajoutee du taux de reussite - STI\n",
      "Valeur ajoutee du taux de reussite - STL\n",
      "Valeur ajoutee du taux de reussite - ST2S\n",
      "Valeur ajoutee du taux de reussite - TMD\n",
      "Valeur ajoutee du taux de reussite - STHR\n",
      "Valeur ajoutee du taux d'acces 1ere-bac\n",
      "Valeur ajoutee du taux d'acces terminale-bac\n",
      "Valeur ajoutee du taux de mentions - L\n",
      "Valeur ajoutee du taux de mentions - ES\n",
      "Valeur ajoutee du taux de mentions - S\n",
      "Valeur ajoutee du taux de mentions - STI2D\n",
      "Valeur ajoutee du taux de mentions - STD2A\n",
      "Valeur ajoutee du taux de mentions - STMG\n",
      "Valeur ajoutee du taux de mentions - STL\n",
      "Valeur ajoutee du taux de mentions - ST2S\n",
      "Valeur ajoutee du taux de mentions - TMD\n",
      "Valeur ajoutee du taux de mentions - STHR\n",
      "Presents - Gnle\n",
      "Taux de reussite - Gnle\n",
      "Valeur ajoutee du taux de réussite - Gnle\n",
      "Taux de mentions - Gnle\n",
      "Valeur ajoutée du taux de mentions - Gnle\n",
      "Nombre de mentions TB avec félicitations - G\n",
      "Nombre de mentions TB sans félicitations - G\n",
      "Nombre de mentions B - G\n",
      "Nombre de mentions AB - G\n",
      "Nombre de mentions TB avec félicitations - T\n",
      "Nombre de mentions TB sans félicitations - T\n",
      "Nombre de mentions B - T\n",
      "Nombre de mentions AB - T\n"
     ]
    }
   ],
   "source": [
    "for a in va_lycee_gen.columns :\n",
    "    print(a)"
   ]
  },
  {
   "cell_type": "markdown",
   "metadata": {},
   "source": [
    "Le fichier fr-en-indicateurs-de-resultat-des-lycees-denseignement-general-et-technologique.csv contient 145 colonnes<br>\n",
    "<ul>\n",
    "  <li>une colonne annee qui est l'année de la rentrée scolaire</li>\n",
    "  <li>11 colonne pour décrire l'établissement (adresse, secteur public ou privé, numéro uai)</li>\n",
    "  <li>pour chaque serie:\n",
    "    <ul>\n",
    "      <li>une colonne effectif_present qui donne le nombre de candidats qui passe le bac</li>\n",
    "      <li>le taux brut de réussite</li>\n",
    "      <li>le taux de réussite attendu en France, dans l'académie</li>\n",
    "      <li>le taux de mention brut et attendu</li>\n",
    "      <li>la valeur ajoutée pour le taux de réussite et la valeur ajoutée pour le taux mention</li>\n",
    "    </ul>\n",
    "    </li>\n",
    "    <li>8 colonnes qui donnent le nombre de mentions par collège toute séries confondus</li>\n",
    "</ul>\n",
    "Alors pour limiter le nombre de colonnes : création d'une colonne serie et fusion de toutes les colonnes des series.<br>\n"
   ]
  },
  {
   "cell_type": "code",
   "execution_count": 8,
   "metadata": {
    "execution": {
     "iopub.execute_input": "2024-04-21T12:08:02.240772Z",
     "iopub.status.busy": "2024-04-21T12:08:02.240645Z",
     "iopub.status.idle": "2024-04-21T12:08:02.249661Z",
     "shell.execute_reply": "2024-04-21T12:08:02.249298Z"
    }
   },
   "outputs": [
    {
     "data": {
      "text/html": [
       "<div>\n",
       "<style scoped>\n",
       "    .dataframe tbody tr th:only-of-type {\n",
       "        vertical-align: middle;\n",
       "    }\n",
       "\n",
       "    .dataframe tbody tr th {\n",
       "        vertical-align: top;\n",
       "    }\n",
       "\n",
       "    .dataframe thead th {\n",
       "        text-align: right;\n",
       "    }\n",
       "</style>\n",
       "<table border=\"1\" class=\"dataframe\">\n",
       "  <thead>\n",
       "    <tr style=\"text-align: right;\">\n",
       "      <th></th>\n",
       "      <th>Etablissement</th>\n",
       "      <th>UAI</th>\n",
       "      <th>Annee</th>\n",
       "      <th>Ville</th>\n",
       "      <th>Code commune</th>\n",
       "      <th>Academie</th>\n",
       "      <th>Departement</th>\n",
       "      <th>Secteur</th>\n",
       "      <th>Presents - Specialites pluri-technologiques de la production</th>\n",
       "      <th>Presents - Transformations</th>\n",
       "      <th>...</th>\n",
       "      <th>Valeur ajoutee du taux de mentions - Specialites plurivalentes des services</th>\n",
       "      <th>Valeur ajoutee du taux de mentions - Echanges et gestion</th>\n",
       "      <th>Valeur ajoutee du taux de mentions - Communication et information</th>\n",
       "      <th>Valeur ajoutee du taux de mentions - Services aux personnes</th>\n",
       "      <th>Valeur ajoutee du taux de mentions - Services a la collectivite</th>\n",
       "      <th>Valeur ajoutee du taux de mentions - Services</th>\n",
       "      <th>Valeur ajoutee du taux de mentions - Toutes series</th>\n",
       "      <th>Nombre de mentions TB sans félicitations - P</th>\n",
       "      <th>Nombre de mentions B - P</th>\n",
       "      <th>Nombre de mentions AB - P</th>\n",
       "    </tr>\n",
       "  </thead>\n",
       "  <tbody>\n",
       "    <tr>\n",
       "      <th>0</th>\n",
       "      <td>LYCEE PROFESSIONNEL SAINTE JEANNE D'ARC</td>\n",
       "      <td>0592928M</td>\n",
       "      <td>2019</td>\n",
       "      <td>AULNOYE AYMERIES</td>\n",
       "      <td>59033</td>\n",
       "      <td>LILLE</td>\n",
       "      <td>NORD</td>\n",
       "      <td>privé sous contrat</td>\n",
       "      <td>NaN</td>\n",
       "      <td>5.0</td>\n",
       "      <td>...</td>\n",
       "      <td>NaN</td>\n",
       "      <td>NaN</td>\n",
       "      <td>NaN</td>\n",
       "      <td>3</td>\n",
       "      <td>NaN</td>\n",
       "      <td>3</td>\n",
       "      <td>5.0</td>\n",
       "      <td>NaN</td>\n",
       "      <td>NaN</td>\n",
       "      <td>NaN</td>\n",
       "    </tr>\n",
       "  </tbody>\n",
       "</table>\n",
       "<p>1 rows × 130 columns</p>\n",
       "</div>"
      ],
      "text/plain": [
       "                             Etablissement       UAI  Annee             Ville  \\\n",
       "0  LYCEE PROFESSIONNEL SAINTE JEANNE D'ARC  0592928M   2019  AULNOYE AYMERIES   \n",
       "\n",
       "  Code commune Academie Departement             Secteur  \\\n",
       "0        59033    LILLE        NORD  privé sous contrat   \n",
       "\n",
       "   Presents - Specialites pluri-technologiques de la production  \\\n",
       "0                                                NaN              \n",
       "\n",
       "   Presents - Transformations  ...  \\\n",
       "0                         5.0  ...   \n",
       "\n",
       "   Valeur ajoutee du taux de mentions - Specialites plurivalentes des services  \\\n",
       "0                                                NaN                             \n",
       "\n",
       "   Valeur ajoutee du taux de mentions - Echanges et gestion  \\\n",
       "0                                                NaN          \n",
       "\n",
       "   Valeur ajoutee du taux de mentions - Communication et information  \\\n",
       "0                                                NaN                   \n",
       "\n",
       "   Valeur ajoutee du taux de mentions - Services aux personnes  \\\n",
       "0                                                  3             \n",
       "\n",
       "   Valeur ajoutee du taux de mentions - Services a la collectivite  \\\n",
       "0                                                NaN                 \n",
       "\n",
       "   Valeur ajoutee du taux de mentions - Services  \\\n",
       "0                                              3   \n",
       "\n",
       "   Valeur ajoutee du taux de mentions - Toutes series  \\\n",
       "0                                                5.0    \n",
       "\n",
       "   Nombre de mentions TB sans félicitations - P  Nombre de mentions B - P  \\\n",
       "0                                           NaN                       NaN   \n",
       "\n",
       "   Nombre de mentions AB - P  \n",
       "0                        NaN  \n",
       "\n",
       "[1 rows x 130 columns]"
      ]
     },
     "execution_count": 8,
     "metadata": {},
     "output_type": "execute_result"
    }
   ],
   "source": [
    "va_lycee_pro.head(1)"
   ]
  },
  {
   "cell_type": "code",
   "execution_count": 9,
   "metadata": {
    "execution": {
     "iopub.execute_input": "2024-04-21T12:08:02.251154Z",
     "iopub.status.busy": "2024-04-21T12:08:02.250969Z",
     "iopub.status.idle": "2024-04-21T12:08:02.257554Z",
     "shell.execute_reply": "2024-04-21T12:08:02.257161Z"
    }
   },
   "outputs": [
    {
     "name": "stdout",
     "output_type": "stream",
     "text": [
      "<class 'pandas.core.frame.DataFrame'>\n",
      "RangeIndex: 24236 entries, 0 to 24235\n",
      "Columns: 130 entries, Etablissement to Nombre de mentions AB - P\n",
      "dtypes: float64(62), int64(3), object(65)\n",
      "memory usage: 24.0+ MB\n"
     ]
    }
   ],
   "source": [
    "va_lycee_pro.info()"
   ]
  },
  {
   "cell_type": "markdown",
   "metadata": {},
   "source": [
    "Le fichier fr-en-indicateurs-de-resultat-des-lycees-denseignement-professionnels.csv contient les 130 colonnes suivantes :"
   ]
  },
  {
   "cell_type": "code",
   "execution_count": 10,
   "metadata": {
    "execution": {
     "iopub.execute_input": "2024-04-21T12:08:02.258881Z",
     "iopub.status.busy": "2024-04-21T12:08:02.258753Z",
     "iopub.status.idle": "2024-04-21T12:08:02.261863Z",
     "shell.execute_reply": "2024-04-21T12:08:02.261569Z"
    }
   },
   "outputs": [
    {
     "name": "stdout",
     "output_type": "stream",
     "text": [
      "Etablissement\n",
      "UAI\n",
      "Annee\n",
      "Ville\n",
      "Code commune\n",
      "Academie\n",
      "Departement\n",
      "Secteur\n",
      "Presents - Specialites pluri-technologiques de la production\n",
      "Presents - Transformations\n",
      "Presents - Genie civil construction bois\n",
      "Presents - Materiaux souples\n",
      "Presents - Mecanique electricite electronique\n",
      "Presents - Production\n",
      "Presents - Specialites plurivalentes des services\n",
      "Presents - Echanges et gestion\n",
      "Presents - Communication et information\n",
      "Presents - Services aux personnes\n",
      "Presents - Services a la collectivite\n",
      "Presents - Services\n",
      "Presents - Toutes series\n",
      "Taux de reussite - Specialites pluri-technologiques de la production\n",
      "Taux de reussite - Transformations\n",
      "Taux de reussite - Genie civil construction bois\n",
      "Taux de reussite - Materiaux souples\n",
      "Taux de reussite - Mecanique electricite electronique\n",
      "Taux de reussite - Production\n",
      "Taux de reussite - Specialites plurivalentes des services\n",
      "Taux de reussite - Echanges et gestion\n",
      "Taux de reussite - Communication et information\n",
      "Taux de reussite - Services aux personnes\n",
      "Taux de reussite - Services a la collectivite\n",
      "Taux de reussite - Services\n",
      "Taux de reussite - Toutes series\n",
      "Taux de reussite attendu france - Specialites pluri-technologiques de la production\n",
      "Taux de reussite attendu france - Transformations\n",
      "Taux de reussite attendu france - Genie civil construction bois\n",
      "Taux de reussite attendu france - Materiaux souples\n",
      "Taux de reussite attendu france - Mecanique electricite electronique\n",
      "Taux de reussite attendu france - Specialites plurivalentes des services\n",
      "Taux de reussite attendu france - Echanges et gestion\n",
      "Taux de reussite attendu france - Communication et information\n",
      "Taux de reussite attendu france - Services aux personnes\n",
      "Taux de reussite attendu france - Services a la collectivite\n",
      "Taux de reussite attendu acad - Production\n",
      "Taux de reussite attendu acad - Services\n",
      "Taux de reussite attendu acad - Toutes series\n",
      "Taux de reussite attendu france - Production\n",
      "Taux de reussite attendu france - Services\n",
      "Taux de reussite attendu france - Toutes series\n",
      "Pourcentage bacheliers sortants 2de 1re Terminale Etablissement\n",
      "Pourcentage bacheliers sortants Terminales Etablissement\n",
      "Pourcentage bacheliers sortants 2de 1re Terminale Acad\n",
      "Pourcentage bacheliers sortants Terminale Acad\n",
      "Pourcentage bacheliers sortants 2de 1re Terminale France\n",
      "Pourcentage bacheliers sortants Terminale France\n",
      "Effectif de seconde\n",
      "Effectif de premiere\n",
      "Effectif de terminale\n",
      "Taux d'acces 2nde-bac\n",
      "Taux d'acces attendu acad 2nde-bac\n",
      "Taux d'acces attendu france 2nde-bac\n",
      "Taux d'acces 1ere-bac\n",
      "Taux d'acces attendu acad 1ere-bac\n",
      "Taux d'acces attendu france 1ere-bac\n",
      "Taux d'acces terminale-bac\n",
      "Taux d'acces attendu france terminale-bac\n",
      "Taux de mentions - Specialites pluri-technologiques de la production\n",
      "Taux de mentions - Transformations\n",
      "Taux de mentions - Genie civil construction bois\n",
      "Taux de mentions - Materiaux souples\n",
      "Taux de mentions - Mecanique electricite electronique\n",
      "Taux de mentions - Specialites plurivalentes des services\n",
      "Taux de mentions - Echanges et gestion\n",
      "Taux de mentions - Communication et information\n",
      "Taux de mentions - Services aux personnes\n",
      "Taux de mentions - Services a la collectivite\n",
      "Taux de mentions - Production\n",
      "Taux de mentions - Services\n",
      "Taux de mentions - Toutes series\n",
      "Taux de mentions attendu - Specialites pluri-technologiques de la production\n",
      "Taux de mentions attendu - Transformations\n",
      "Taux de mentions attendu - Genie civil construction bois\n",
      "Taux de mentions attendu - Materiaux souples\n",
      "Taux de mentions attendu - Mecanique electricite electronique\n",
      "Taux de mentions attendu - Specialites plurivalentes des services\n",
      "Taux de mentions attendu - Echanges et gestion\n",
      "Taux de mentions attendu - Communication et information\n",
      "Taux de mentions attendu - Services aux personnes\n",
      "Taux de mentions attendu - Services a la collectivite\n",
      "Taux de mentions attendu - Production\n",
      "Taux de mentions attendu - Services\n",
      "Taux de mentions attendu - Toutes series\n",
      "Structure pedagogique 7 groupes\n",
      "Region\n",
      "Code region\n",
      "Libelle departement\n",
      "Code departement\n",
      "Valeur ajoutee du taux de reussite - Specialites pluri-technologiques de la production\n",
      "Valeur ajoutee du taux de reussite - Transformations\n",
      "Valeur ajoutee du taux de reussite - Genie civil construction bois\n",
      "Valeur ajoutee du taux de reussite - Materiaux souples\n",
      "Valeur ajoutee du taux de reussite - Mecanique electricite electronique\n",
      "Valeur ajoutee du taux de reussite - Production\n",
      "Valeur ajoutee du taux de reussite - Specialites plurivalentes des services\n",
      "Valeur ajoutee du taux de reussite - Echanges et gestion\n",
      "Valeur ajoutee du taux de reussite - Communication et information\n",
      "Valeur ajoutee du taux de reussite - Services aux personnes\n",
      "Valeur ajoutee du taux de reussite - Services a la collectivite\n",
      "Valeur ajoutee du taux de reussite - Services\n",
      "Valeur ajoutee du taux de reussite - Toutes series\n",
      "Valeur ajoutee du taux d'acces 2nde-bac\n",
      "Valeur ajoutee du taux d'acces 1ere-bac\n",
      "Valeur ajoutee du taux d'acces terminale-bac\n",
      "Valeur ajoutee du taux de mentions - Specialites pluri-technologiques de la production\n",
      "Valeur ajoutee du taux de mentions - Transformations\n",
      "Valeur ajoutee du taux de mentions - Genie civil construction bois\n",
      "Valeur ajoutee du taux de mentions - Materiaux souples\n",
      "Valeur ajoutee du taux de mentions - Mecanique electricite electronique\n",
      "Valeur ajoutee du taux de mentions - Production\n",
      "Valeur ajoutee du taux de mentions - Specialites plurivalentes des services\n",
      "Valeur ajoutee du taux de mentions - Echanges et gestion\n",
      "Valeur ajoutee du taux de mentions - Communication et information\n",
      "Valeur ajoutee du taux de mentions - Services aux personnes\n",
      "Valeur ajoutee du taux de mentions - Services a la collectivite\n",
      "Valeur ajoutee du taux de mentions - Services\n",
      "Valeur ajoutee du taux de mentions - Toutes series\n",
      "Nombre de mentions TB sans félicitations - P\n",
      "Nombre de mentions B - P\n",
      "Nombre de mentions AB - P\n"
     ]
    }
   ],
   "source": [
    "for a in va_lycee_pro.columns :\n",
    "    print(a)"
   ]
  },
  {
   "cell_type": "markdown",
   "metadata": {},
   "source": [
    "Le fichier contient les éléments suivants :<br>\n",
    "<ul>\n",
    "  <li>Une colonne annee avec l'année scolaire</li>\n",
    "  <li>9 colonnes qui décrivent le lycée (adresse, secteur public ou privé, uai, ...)</li>\n",
    "  <li>3 colonnes pour les mentions (pas de mention très bien avec félicitations par rapport au lycée général)</li>\n",
    "  <li>pour chaque spécialité professionnelle :\n",
    "    <ul>\n",
    "      <li>une colonne effectif qui donne le nombre de candidats pour le diplôme preparé</li>\n",
    "      <li>un taux brut de réussite</li>\n",
    "      <li>un taux de réussite attendu en France</li>\n",
    "      <li>un taux de réussite attendu dans l'académie</li>\n",
    "      <li>un taux brut de mention</li>\n",
    "      <li>un taux de mention attendu</li>\n",
    "      <li>la valeur ajoutée due à l'établissement au taux de réussite</li>\n",
    "      <li>la valeur ajoutée due à l'établissement au taux de mention</li>\n",
    "      <li>la valeur ajoutée due à l'établissement au taux d'accès (le lycée garde ces élèves au cours de la formation.)</li>\n",
    "    </ul>\n",
    "  </li>\n",
    "  <li>les taux d'accès de l'établissement</li>\n",
    "</ul>\n",
    "\n",
    "Pour l'instant, je me concentre sur les différentes series, et l'IPS des établissements.<br>\n",
    "Pour cela, je vais créer comme pour le lycée général une colonne serie et fusionner les différentes colonnes communes.<br>"
   ]
  },
  {
   "cell_type": "code",
   "execution_count": 11,
   "metadata": {
    "execution": {
     "iopub.execute_input": "2024-04-21T12:08:02.263169Z",
     "iopub.status.busy": "2024-04-21T12:08:02.263034Z",
     "iopub.status.idle": "2024-04-21T12:08:02.394681Z",
     "shell.execute_reply": "2024-04-21T12:08:02.394077Z"
    }
   },
   "outputs": [],
   "source": [
    "adresse_lycee = ips_lycee[['UAI','Académie','Département','Code du département',\"Nom de l'établissment\",'Code INSEE de la commune','Nom de la commune','Type de lycée']].groupby(by='UAI').apply(lambda x :x,include_groups=False)"
   ]
  },
  {
   "cell_type": "code",
   "execution_count": 12,
   "metadata": {},
   "outputs": [
    {
     "data": {
      "text/html": [
       "<div>\n",
       "<style scoped>\n",
       "    .dataframe tbody tr th:only-of-type {\n",
       "        vertical-align: middle;\n",
       "    }\n",
       "\n",
       "    .dataframe tbody tr th {\n",
       "        vertical-align: top;\n",
       "    }\n",
       "\n",
       "    .dataframe thead th {\n",
       "        text-align: right;\n",
       "    }\n",
       "</style>\n",
       "<table border=\"1\" class=\"dataframe\">\n",
       "  <thead>\n",
       "    <tr style=\"text-align: right;\">\n",
       "      <th></th>\n",
       "      <th></th>\n",
       "      <th>Académie</th>\n",
       "      <th>Département</th>\n",
       "      <th>Code du département</th>\n",
       "      <th>Nom de l'établissment</th>\n",
       "      <th>Code INSEE de la commune</th>\n",
       "      <th>Nom de la commune</th>\n",
       "      <th>Type de lycée</th>\n",
       "    </tr>\n",
       "    <tr>\n",
       "      <th>UAI</th>\n",
       "      <th></th>\n",
       "      <th></th>\n",
       "      <th></th>\n",
       "      <th></th>\n",
       "      <th></th>\n",
       "      <th></th>\n",
       "      <th></th>\n",
       "      <th></th>\n",
       "    </tr>\n",
       "  </thead>\n",
       "  <tbody>\n",
       "    <tr>\n",
       "      <th>0010001W</th>\n",
       "      <th>682</th>\n",
       "      <td>LYON</td>\n",
       "      <td>AIN</td>\n",
       "      <td>001</td>\n",
       "      <td>LYCEE PROFESSIONNEL ALEXANDRE BERARD LYCEE DES...</td>\n",
       "      <td>01004</td>\n",
       "      <td>AMBERIEU EN BUGEY</td>\n",
       "      <td>LP</td>\n",
       "    </tr>\n",
       "    <tr>\n",
       "      <th>0010006B</th>\n",
       "      <th>683</th>\n",
       "      <td>LYON</td>\n",
       "      <td>AIN</td>\n",
       "      <td>001</td>\n",
       "      <td>LYCEE POLYVALENT SAINT EXUPERY LYCEE DES METIE...</td>\n",
       "      <td>01033</td>\n",
       "      <td>VALSERHONE</td>\n",
       "      <td>LPO</td>\n",
       "    </tr>\n",
       "    <tr>\n",
       "      <th>0010010F</th>\n",
       "      <th>2917</th>\n",
       "      <td>LYON</td>\n",
       "      <td>AIN</td>\n",
       "      <td>001</td>\n",
       "      <td>LYCEE GENERAL ET TECHNOLOGIQUE DU BUGEY</td>\n",
       "      <td>01034</td>\n",
       "      <td>BELLEY</td>\n",
       "      <td>LEGT</td>\n",
       "    </tr>\n",
       "    <tr>\n",
       "      <th>0010013J</th>\n",
       "      <th>684</th>\n",
       "      <td>LYON</td>\n",
       "      <td>AIN</td>\n",
       "      <td>001</td>\n",
       "      <td>LYCEE GENERAL LALANDE</td>\n",
       "      <td>01053</td>\n",
       "      <td>BOURG EN BRESSE</td>\n",
       "      <td>LEGT</td>\n",
       "    </tr>\n",
       "    <tr>\n",
       "      <th>0010014K</th>\n",
       "      <th>2156</th>\n",
       "      <td>LYON</td>\n",
       "      <td>AIN</td>\n",
       "      <td>001</td>\n",
       "      <td>LYCEE GENERAL ET TECHNOLOGIQUE EDGAR QUINET</td>\n",
       "      <td>01053</td>\n",
       "      <td>BOURG EN BRESSE</td>\n",
       "      <td>LEGT</td>\n",
       "    </tr>\n",
       "  </tbody>\n",
       "</table>\n",
       "</div>"
      ],
      "text/plain": [
       "              Académie Département Code du département  \\\n",
       "UAI                                                      \n",
       "0010001W 682      LYON         AIN                 001   \n",
       "0010006B 683      LYON         AIN                 001   \n",
       "0010010F 2917     LYON         AIN                 001   \n",
       "0010013J 684      LYON         AIN                 001   \n",
       "0010014K 2156     LYON         AIN                 001   \n",
       "\n",
       "                                           Nom de l'établissment  \\\n",
       "UAI                                                                \n",
       "0010001W 682   LYCEE PROFESSIONNEL ALEXANDRE BERARD LYCEE DES...   \n",
       "0010006B 683   LYCEE POLYVALENT SAINT EXUPERY LYCEE DES METIE...   \n",
       "0010010F 2917            LYCEE GENERAL ET TECHNOLOGIQUE DU BUGEY   \n",
       "0010013J 684                               LYCEE GENERAL LALANDE   \n",
       "0010014K 2156        LYCEE GENERAL ET TECHNOLOGIQUE EDGAR QUINET   \n",
       "\n",
       "              Code INSEE de la commune  Nom de la commune Type de lycée  \n",
       "UAI                                                                      \n",
       "0010001W 682                     01004  AMBERIEU EN BUGEY            LP  \n",
       "0010006B 683                     01033         VALSERHONE           LPO  \n",
       "0010010F 2917                    01034             BELLEY          LEGT  \n",
       "0010013J 684                     01053    BOURG EN BRESSE          LEGT  \n",
       "0010014K 2156                    01053    BOURG EN BRESSE          LEGT  "
      ]
     },
     "execution_count": 12,
     "metadata": {},
     "output_type": "execute_result"
    }
   ],
   "source": [
    "adresse_lycee.head()"
   ]
  },
  {
   "cell_type": "markdown",
   "metadata": {},
   "source": [
    "Affichage des données uniques de la colonne Rentrée scolaire du fichier IPS :"
   ]
  },
  {
   "cell_type": "code",
   "execution_count": 13,
   "metadata": {
    "execution": {
     "iopub.execute_input": "2024-04-21T12:08:02.396467Z",
     "iopub.status.busy": "2024-04-21T12:08:02.396337Z",
     "iopub.status.idle": "2024-04-21T12:08:02.398825Z",
     "shell.execute_reply": "2024-04-21T12:08:02.398464Z"
    }
   },
   "outputs": [
    {
     "name": "stdout",
     "output_type": "stream",
     "text": [
      "['2022-2023']\n"
     ]
    }
   ],
   "source": [
    "print(ips_lycee['Rentrée scolaire'].unique())"
   ]
  },
  {
   "cell_type": "markdown",
   "metadata": {},
   "source": [
    "Affichage des  éléments uniques après changement de la colonne Rentrée scolaire du fichier IPS :"
   ]
  },
  {
   "cell_type": "code",
   "execution_count": 14,
   "metadata": {
    "execution": {
     "iopub.execute_input": "2024-04-21T12:08:02.400198Z",
     "iopub.status.busy": "2024-04-21T12:08:02.400044Z",
     "iopub.status.idle": "2024-04-21T12:08:02.404191Z",
     "shell.execute_reply": "2024-04-21T12:08:02.403885Z"
    }
   },
   "outputs": [
    {
     "name": "stdout",
     "output_type": "stream",
     "text": [
      "[2022]\n"
     ]
    }
   ],
   "source": [
    "ips_lycee['Rentrée scolaire'] = ips_lycee['Rentrée scolaire'].str[:4].astype(int)\n",
    "print(ips_lycee['Rentrée scolaire'].unique())"
   ]
  },
  {
   "cell_type": "code",
   "execution_count": 15,
   "metadata": {
    "execution": {
     "iopub.execute_input": "2024-04-21T12:08:02.405582Z",
     "iopub.status.busy": "2024-04-21T12:08:02.405441Z",
     "iopub.status.idle": "2024-04-21T12:08:02.408649Z",
     "shell.execute_reply": "2024-04-21T12:08:02.407734Z"
    }
   },
   "outputs": [],
   "source": [
    "ips_lycee.drop(columns=['Secteur','Académie',\n",
    "'Code du département','Département',\"Nom de l'établissment\",\n",
    "'Code INSEE de la commune','Nom de la commune','Type de lycée',\n",
    "'Effectifs voie GT','Effectifs voie PRO','Effectifs Ensemble GT-PRO'],inplace=True)"
   ]
  },
  {
   "cell_type": "code",
   "execution_count": 16,
   "metadata": {
    "execution": {
     "iopub.execute_input": "2024-04-21T12:08:02.410145Z",
     "iopub.status.busy": "2024-04-21T12:08:02.409851Z",
     "iopub.status.idle": "2024-04-21T12:08:02.412334Z",
     "shell.execute_reply": "2024-04-21T12:08:02.412071Z"
    }
   },
   "outputs": [],
   "source": [
    "va_lycee_gen.rename(columns={'Annee':'Rentrée scolaire'},inplace=True)"
   ]
  },
  {
   "cell_type": "code",
   "execution_count": 17,
   "metadata": {
    "execution": {
     "iopub.execute_input": "2024-04-21T12:08:02.413732Z",
     "iopub.status.busy": "2024-04-21T12:08:02.413567Z",
     "iopub.status.idle": "2024-04-21T12:08:02.424944Z",
     "shell.execute_reply": "2024-04-21T12:08:02.424605Z"
    }
   },
   "outputs": [],
   "source": [
    "# enlevé les resneignement type adresse\n",
    "va_lycee_gen.drop(columns=['Code commune','Ville','Academie','Departement','Etablissement','Region','Libelle departement','Code region','Code departement'],inplace=True)"
   ]
  },
  {
   "cell_type": "code",
   "execution_count": 18,
   "metadata": {
    "execution": {
     "iopub.execute_input": "2024-04-21T12:08:02.426540Z",
     "iopub.status.busy": "2024-04-21T12:08:02.426387Z",
     "iopub.status.idle": "2024-04-21T12:08:02.428473Z",
     "shell.execute_reply": "2024-04-21T12:08:02.428209Z"
    }
   },
   "outputs": [],
   "source": [
    "# faire une liste des series dans le fichier va_lycee_gen\n",
    "liste_serie_gen = []\n",
    "\n",
    "for nom_colonne in va_lycee_gen.columns:\n",
    "    if nom_colonne.startswith('Presents'):\n",
    "        liste_serie_gen.append(nom_colonne[8:])"
   ]
  },
  {
   "cell_type": "code",
   "execution_count": 19,
   "metadata": {},
   "outputs": [],
   "source": [
    "# changer le \"ND\" par nan\n",
    "va_lycee_gen.replace({'ND':np.nan},regex=True,inplace=True)"
   ]
  },
  {
   "cell_type": "code",
   "execution_count": 20,
   "metadata": {},
   "outputs": [],
   "source": [
    "# ajouter des colonne vide\n",
    "va_lycee_gen[\"Valeur ajoutee du taux de reussite - STG\"] = np.nan\n",
    "va_lycee_gen[\"Valeur ajoutee du taux de reussite - STI\"] = np.nan\n",
    "va_lycee_gen['Taux de reussite attendu france - Gnle'] = np.nan \n"
   ]
  },
  {
   "cell_type": "code",
   "execution_count": 21,
   "metadata": {
    "execution": {
     "iopub.execute_input": "2024-04-21T12:08:02.430410Z",
     "iopub.status.busy": "2024-04-21T12:08:02.430177Z",
     "iopub.status.idle": "2024-04-21T12:08:02.592644Z",
     "shell.execute_reply": "2024-04-21T12:08:02.592300Z"
    }
   },
   "outputs": [],
   "source": [
    "# faire un dataframe avec serie\n",
    "\n",
    "lycee_gen = pd.DataFrame(columns=['Rentrée scolaire','UAI','Secteur','Serie','Type de diplome gen pro','Presents'\n",
    "                                    ,'Taux de reussite','Taux de reussite attendu acad','Taux de reussite attendu france'\n",
    "                                    ,'Taux de mentions','Taux de mentions attendu'\n",
    "                                    ,\"Valeur ajoutee du taux de reussite\"\n",
    "                                    ,\"Valeur ajoutee du taux de mentions\"])\n",
    "for serie in  liste_serie_gen: \n",
    "    liste_colonne = []\n",
    "    colonne_mention =[]\n",
    "    dico_serie = {'Presents'+serie:'Presents'\n",
    "                ,'Taux de reussite'+serie:'Taux de reussite'\n",
    "                ,'Taux de reussite attendu acad'+serie:'Taux de reussite attendu acad'\n",
    "                ,'Taux de reussite attendu france'+serie:'Taux de reussite attendu france'\n",
    "                ,'Taux de mentions'+serie:'Taux de mentions'\n",
    "                ,'Taux de mentions attendu'+serie:'Taux de mentions attendu'\n",
    "                ,\"Valeur ajoutee du taux de reussite\"+serie:\"Valeur ajoutee du taux de reussite\"\n",
    "                ,\"Valeur ajoutee du taux de mentions\"+serie:\"Valeur ajoutee du taux de mentions\"\n",
    "                }\n",
    "\n",
    "    for colonne in va_lycee_gen.columns:\n",
    "        if colonne.endswith(serie):\n",
    "            liste_colonne.append(colonne)\n",
    "        if colonne.startswith('nombre_de_mentions'):\n",
    "            colonne_mention.append(colonne)\n",
    "    liste_colonne +=['Rentrée scolaire','Secteur','UAI']\n",
    "    temps_data = va_lycee_gen[~va_lycee_gen['Presents'+serie].isna()][liste_colonne].copy()\n",
    "    temps_data['Serie']= serie[2:]\n",
    "    temps_data['Type de diplome gen pro'] = 'gen'\n",
    "    temps_data.rename(columns=dico_serie,inplace=True)\n",
    "    lycee_gen = pd.concat([lycee_gen.astype('object'),temps_data.astype('object')])\n"
   ]
  },
  {
   "cell_type": "code",
   "execution_count": 22,
   "metadata": {},
   "outputs": [],
   "source": [
    "#changer les types\n",
    "\n",
    "lycee_gen['Presents'] = lycee_gen['Presents'].astype(int)\n",
    "lycee_gen['Taux de reussite'] = lycee_gen['Taux de reussite'].astype(float)\n",
    "lycee_gen['Taux de reussite attendu acad'] = lycee_gen['Taux de reussite attendu acad'].astype(float)\n",
    "lycee_gen['Taux de mentions'] = lycee_gen['Taux de mentions'].astype(float)\n",
    "lycee_gen['Valeur ajoutee du taux de reussite'] = lycee_gen['Valeur ajoutee du taux de reussite'].astype(float)\n",
    "lycee_gen['Valeur ajoutee du taux de mentions'] = lycee_gen['Valeur ajoutee du taux de mentions'].astype(float)\n",
    "lycee_gen['Valeur ajoutee du taux de réussite - Gnle'] = lycee_gen['Valeur ajoutee du taux de réussite - Gnle'].astype(float)\n",
    "lycee_gen['Valeur ajoutée du taux de mentions - Gnle'] = lycee_gen['Valeur ajoutée du taux de mentions - Gnle'].astype(float)\n",
    "\n",
    "# des mauvaises valeur sont dans le dataframe\n",
    "lycee_gen['Taux de mentions attendu'] = lycee_gen['Taux de mentions attendu'].replace({'56(1)':56,'36(1)':36})\n",
    "lycee_gen['Taux de reussite attendu france'] = lycee_gen['Taux de reussite attendu france'].replace({'92(1)':92,'86(1)':86})\n",
    "\n",
    "lycee_gen['Taux de mentions attendu'] = lycee_gen['Taux de mentions attendu'].astype(float)\n",
    "lycee_gen['Taux de reussite attendu france'] = lycee_gen['Taux de reussite attendu france'].astype(float)\n"
   ]
  },
  {
   "cell_type": "markdown",
   "metadata": {},
   "source": [
    "Le fichier lycee_gen après changement :"
   ]
  },
  {
   "cell_type": "code",
   "execution_count": 23,
   "metadata": {
    "execution": {
     "iopub.execute_input": "2024-04-21T12:08:02.595209Z",
     "iopub.status.busy": "2024-04-21T12:08:02.595046Z",
     "iopub.status.idle": "2024-04-21T12:08:02.704516Z",
     "shell.execute_reply": "2024-04-21T12:08:02.704229Z"
    }
   },
   "outputs": [
    {
     "name": "stdout",
     "output_type": "stream",
     "text": [
      "<class 'pandas.core.frame.DataFrame'>\n",
      "Index: 120203 entries, 468 to 26317\n",
      "Data columns (total 15 columns):\n",
      " #   Column                                     Non-Null Count   Dtype  \n",
      "---  ------                                     --------------   -----  \n",
      " 0   Rentrée scolaire                           120203 non-null  object \n",
      " 1   UAI                                        120203 non-null  object \n",
      " 2   Secteur                                    120203 non-null  object \n",
      " 3   Serie                                      120203 non-null  object \n",
      " 4   Type de diplome gen pro                    120203 non-null  object \n",
      " 5   Presents                                   120203 non-null  int64  \n",
      " 6   Taux de reussite                           120203 non-null  float64\n",
      " 7   Taux de reussite attendu acad              31561 non-null   float64\n",
      " 8   Taux de reussite attendu france            85010 non-null   float64\n",
      " 9   Taux de mentions                           66106 non-null   float64\n",
      " 10  Taux de mentions attendu                   32167 non-null   float64\n",
      " 11  Valeur ajoutee du taux de reussite         107927 non-null  float64\n",
      " 12  Valeur ajoutee du taux de mentions         58163 non-null   float64\n",
      " 13  Valeur ajoutee du taux de réussite - Gnle  6490 non-null    float64\n",
      " 14  Valeur ajoutée du taux de mentions - Gnle  6490 non-null    float64\n",
      "dtypes: float64(9), int64(1), object(5)\n",
      "memory usage: 14.7+ MB\n"
     ]
    }
   ],
   "source": [
    "lycee_gen.info()"
   ]
  },
  {
   "cell_type": "code",
   "execution_count": 24,
   "metadata": {
    "execution": {
     "iopub.execute_input": "2024-04-21T12:08:02.706250Z",
     "iopub.status.busy": "2024-04-21T12:08:02.705893Z",
     "iopub.status.idle": "2024-04-21T12:08:02.709190Z",
     "shell.execute_reply": "2024-04-21T12:08:02.708868Z"
    }
   },
   "outputs": [],
   "source": [
    "va_lycee_pro.rename(columns={'Annee':'Rentrée scolaire'},inplace=True)"
   ]
  },
  {
   "cell_type": "code",
   "execution_count": 25,
   "metadata": {
    "execution": {
     "iopub.execute_input": "2024-04-21T12:08:02.710506Z",
     "iopub.status.busy": "2024-04-21T12:08:02.710404Z",
     "iopub.status.idle": "2024-04-21T12:08:02.721717Z",
     "shell.execute_reply": "2024-04-21T12:08:02.720627Z"
    }
   },
   "outputs": [],
   "source": [
    "va_lycee_pro.drop(columns=['Etablissement','Ville','Code commune','Academie','Departement'],inplace=True)"
   ]
  },
  {
   "cell_type": "code",
   "execution_count": 26,
   "metadata": {
    "execution": {
     "iopub.execute_input": "2024-04-21T12:08:02.723217Z",
     "iopub.status.busy": "2024-04-21T12:08:02.723080Z",
     "iopub.status.idle": "2024-04-21T12:08:02.725223Z",
     "shell.execute_reply": "2024-04-21T12:08:02.724955Z"
    }
   },
   "outputs": [],
   "source": [
    "#listez les serie générale et technologique\n",
    "liste_serie_pro = []\n",
    "for nom_colonne in va_lycee_pro.columns:\n",
    "    if nom_colonne.startswith('Presents'):\n",
    "        liste_serie_pro.append(nom_colonne[8:])"
   ]
  },
  {
   "cell_type": "code",
   "execution_count": 27,
   "metadata": {
    "execution": {
     "iopub.execute_input": "2024-04-21T12:08:02.726447Z",
     "iopub.status.busy": "2024-04-21T12:08:02.726348Z",
     "iopub.status.idle": "2024-04-21T12:08:02.865087Z",
     "shell.execute_reply": "2024-04-21T12:08:02.864679Z"
    }
   },
   "outputs": [],
   "source": [
    "# faire un dataframe avec serie\n",
    "\n",
    "lycee_pro = pd.DataFrame(columns=['Rentrée scolaire','UAI','Secteur','Serie','Type de diplome gen pro','Presents'\n",
    "                                    ,'Taux de reussite','Taux de reussite attendu acad','Taux de reussite attendu france'\n",
    "                                    ,'Taux de mentions','Taux de mentions attendu'\n",
    "                                    ,'Valeur ajoutee du taux de reussite',\"Valeur ajoutee du taux de mentions\"])\n",
    "for serie in  liste_serie_pro: \n",
    "    liste_colonne = []\n",
    "    dico_serie = {'Presents'+serie:'Presents'\n",
    "                ,'Taux de reussite'+serie:'Taux de reussite'\n",
    "                ,'Taux de reussite attendu acad'+serie:'Taux de reussite attendu acad'\n",
    "                ,'Taux de reussite attendu france'+serie:'Taux de reussite attendu france'\n",
    "                ,'Taux de mentions'+serie:'Taux de mentions'\n",
    "                ,'Taux de mentions attendu'+serie:'Taux de mentions attendu'\n",
    "                ,'Valeur ajoutee du taux de reussite'+serie:'Valeur ajoutee du taux de reussite'\n",
    "                ,\"Valeur ajoutee du taux de mentions\"+serie:\"Valeur ajoutee du taux de mentions\"\n",
    "                }\n",
    "    for colonne in va_lycee_pro.columns:\n",
    "        if colonne.endswith(serie):\n",
    "            liste_colonne.append(colonne)\n",
    "    liste_colonne +=['Rentrée scolaire','Secteur','UAI']\n",
    "    temps_data = va_lycee_pro[~va_lycee_pro['Presents'+serie].isna()][liste_colonne].copy()\n",
    "    temps_data['Serie']= serie[2:]\n",
    "    temps_data['Type de diplome gen pro'] = 'pro'\n",
    "    temps_data.rename(columns=dico_serie,inplace=True)\n",
    "    lycee_pro = pd.concat([lycee_pro.astype(\"object\"),temps_data.astype('object')])"
   ]
  },
  {
   "cell_type": "code",
   "execution_count": 28,
   "metadata": {},
   "outputs": [],
   "source": [
    "#changement des type de colonne\n",
    "lycee_pro['Presents'] = lycee_pro['Presents'].astype(int)\n",
    "lycee_pro['Taux de reussite'] = lycee_pro['Taux de reussite'].astype(float)\n",
    "lycee_pro['Taux de reussite attendu acad'] = lycee_pro['Taux de reussite attendu acad'].astype(float)\n",
    "lycee_pro['Taux de mentions'] = lycee_pro['Taux de mentions'].astype(float)\n",
    "\n",
    "\n",
    "# erreurs dans la convertion : ND present remplacé par Nan et des valeur avec des XX(1)\n",
    "lycee_pro['Taux de mentions attendu'] = lycee_pro['Taux de mentions attendu'].replace({'ND':np.nan})\n",
    "lycee_pro['Taux de mentions attendu'] = lycee_pro['Taux de mentions attendu'].str[:2]\n",
    "lycee_pro['Taux de mentions attendu'] = lycee_pro['Taux de mentions attendu'].astype(float)\n",
    "\n",
    "lycee_pro['Valeur ajoutee du taux de mentions'] = lycee_pro['Valeur ajoutee du taux de mentions'].replace({'ND':np.nan})\n",
    "lycee_pro['Valeur ajoutee du taux de mentions'] = lycee_pro['Valeur ajoutee du taux de mentions'].astype(float)\n",
    "\n",
    "lycee_pro['Valeur ajoutee du taux de reussite'] = lycee_pro['Valeur ajoutee du taux de reussite'].replace({'ND':np.nan})\n",
    "lycee_pro['Valeur ajoutee du taux de reussite'] = lycee_pro['Valeur ajoutee du taux de reussite'].astype(float)\n",
    "\n",
    "lycee_pro['Taux de reussite attendu france'] = lycee_pro['Taux de reussite attendu france'].replace({'ND':np.nan})\n",
    "lycee_pro['Taux de reussite attendu france'] = lycee_pro['Taux de reussite attendu france'].str[:2]\n",
    "lycee_pro['Taux de reussite attendu france'] = lycee_pro['Taux de reussite attendu france'].astype(float)\n"
   ]
  },
  {
   "cell_type": "markdown",
   "metadata": {},
   "source": [
    "Le Dataframe lycée_pro après changement :"
   ]
  },
  {
   "cell_type": "code",
   "execution_count": 29,
   "metadata": {
    "execution": {
     "iopub.execute_input": "2024-04-21T12:08:02.866730Z",
     "iopub.status.busy": "2024-04-21T12:08:02.866607Z",
     "iopub.status.idle": "2024-04-21T12:08:02.945543Z",
     "shell.execute_reply": "2024-04-21T12:08:02.945237Z"
    }
   },
   "outputs": [
    {
     "name": "stdout",
     "output_type": "stream",
     "text": [
      "<class 'pandas.core.frame.DataFrame'>\n",
      "Index: 102793 entries, 36 to 24235\n",
      "Data columns (total 13 columns):\n",
      " #   Column                              Non-Null Count   Dtype  \n",
      "---  ------                              --------------   -----  \n",
      " 0   Rentrée scolaire                    102793 non-null  object \n",
      " 1   UAI                                 102793 non-null  object \n",
      " 2   Secteur                             102793 non-null  object \n",
      " 3   Serie                               102793 non-null  object \n",
      " 4   Type de diplome gen pro             102793 non-null  object \n",
      " 5   Presents                            102793 non-null  int64  \n",
      " 6   Taux de reussite                    102793 non-null  float64\n",
      " 7   Taux de reussite attendu acad       8124 non-null    float64\n",
      " 8   Taux de reussite attendu france     46236 non-null   float64\n",
      " 9   Taux de mentions                    65827 non-null   float64\n",
      " 10  Taux de mentions attendu            28914 non-null   float64\n",
      " 11  Valeur ajoutee du taux de reussite  100638 non-null  float64\n",
      " 12  Valeur ajoutee du taux de mentions  67283 non-null   float64\n",
      "dtypes: float64(7), int64(1), object(5)\n",
      "memory usage: 11.0+ MB\n"
     ]
    }
   ],
   "source": [
    "lycee_pro.info()"
   ]
  },
  {
   "cell_type": "code",
   "execution_count": 30,
   "metadata": {
    "execution": {
     "iopub.execute_input": "2024-04-21T12:08:02.947269Z",
     "iopub.status.busy": "2024-04-21T12:08:02.946918Z",
     "iopub.status.idle": "2024-04-21T12:08:03.188846Z",
     "shell.execute_reply": "2024-04-21T12:08:03.188431Z"
    }
   },
   "outputs": [],
   "source": [
    "#merger les fichiers ensembles\n",
    "fichier_lycee = pd.concat([lycee_gen,lycee_pro])\n",
    "fichier_lycee = pd.merge(fichier_lycee,ips_lycee, on=['UAI','Rentrée scolaire'],how='left')\n",
    "fichier_lycee = pd.merge(fichier_lycee,adresse_lycee, on='UAI',how='left')\n"
   ]
  },
  {
   "cell_type": "code",
   "execution_count": 31,
   "metadata": {
    "execution": {
     "iopub.execute_input": "2024-04-21T12:08:03.190505Z",
     "iopub.status.busy": "2024-04-21T12:08:03.190365Z",
     "iopub.status.idle": "2024-04-21T12:08:03.206550Z",
     "shell.execute_reply": "2024-04-21T12:08:03.206214Z"
    }
   },
   "outputs": [],
   "source": [
    "fichier_lycee['Secteur'] = fichier_lycee['Secteur'].replace({'public':'PUBLIC','privé sous contrat':'PRIVE'})"
   ]
  },
  {
   "cell_type": "markdown",
   "metadata": {},
   "source": [
    "Le fichier utilisé pour analyse :"
   ]
  },
  {
   "cell_type": "code",
   "execution_count": 32,
   "metadata": {
    "execution": {
     "iopub.execute_input": "2024-04-21T12:08:03.208237Z",
     "iopub.status.busy": "2024-04-21T12:08:03.208110Z",
     "iopub.status.idle": "2024-04-21T12:08:03.532612Z",
     "shell.execute_reply": "2024-04-21T12:08:03.531847Z"
    }
   },
   "outputs": [
    {
     "name": "stdout",
     "output_type": "stream",
     "text": [
      "<class 'pandas.core.frame.DataFrame'>\n",
      "RangeIndex: 222996 entries, 0 to 222995\n",
      "Data columns (total 27 columns):\n",
      " #   Column                                     Non-Null Count   Dtype  \n",
      "---  ------                                     --------------   -----  \n",
      " 0   Rentrée scolaire                           222996 non-null  object \n",
      " 1   UAI                                        222996 non-null  object \n",
      " 2   Secteur                                    222996 non-null  object \n",
      " 3   Serie                                      222996 non-null  object \n",
      " 4   Type de diplome gen pro                    222996 non-null  object \n",
      " 5   Presents                                   222996 non-null  int64  \n",
      " 6   Taux de reussite                           222996 non-null  float64\n",
      " 7   Taux de reussite attendu acad              39685 non-null   float64\n",
      " 8   Taux de reussite attendu france            131246 non-null  float64\n",
      " 9   Taux de mentions                           131933 non-null  float64\n",
      " 10  Taux de mentions attendu                   61081 non-null   float64\n",
      " 11  Valeur ajoutee du taux de reussite         208565 non-null  float64\n",
      " 12  Valeur ajoutee du taux de mentions         125446 non-null  float64\n",
      " 13  Valeur ajoutee du taux de réussite - Gnle  6490 non-null    float64\n",
      " 14  Valeur ajoutée du taux de mentions - Gnle  6490 non-null    float64\n",
      " 15  IPS voie GT                                11537 non-null   float64\n",
      " 16  IPS voie PRO                               12719 non-null   float64\n",
      " 17  IPS Ensemble GT-PRO                        17104 non-null   float64\n",
      " 18  Ecart-type de l'IPS voie GT                11537 non-null   float64\n",
      " 19  Ecart-type de l'IPS voie PRO               12719 non-null   float64\n",
      " 20  Académie                                   218530 non-null  object \n",
      " 21  Département                                218530 non-null  object \n",
      " 22  Code du département                        218530 non-null  object \n",
      " 23  Nom de l'établissment                      218530 non-null  object \n",
      " 24  Code INSEE de la commune                   218530 non-null  object \n",
      " 25  Nom de la commune                          218530 non-null  object \n",
      " 26  Type de lycée                              218530 non-null  object \n",
      "dtypes: float64(14), int64(1), object(12)\n",
      "memory usage: 45.9+ MB\n"
     ]
    }
   ],
   "source": [
    "fichier_lycee.info()"
   ]
  },
  {
   "cell_type": "code",
   "execution_count": 33,
   "metadata": {
    "execution": {
     "iopub.execute_input": "2024-04-21T12:08:03.534229Z",
     "iopub.status.busy": "2024-04-21T12:08:03.534074Z",
     "iopub.status.idle": "2024-04-21T12:08:05.000186Z",
     "shell.execute_reply": "2024-04-21T12:08:04.999857Z"
    }
   },
   "outputs": [],
   "source": [
    "fichier_lycee.to_csv('donnee_temp/lycee.csv',index=False)"
   ]
  }
 ],
 "metadata": {
  "kernelspec": {
   "display_name": "Python 3 (ipykernel)",
   "language": "python",
   "name": "python3"
  },
  "language_info": {
   "codemirror_mode": {
    "name": "ipython",
    "version": 3
   },
   "file_extension": ".py",
   "mimetype": "text/x-python",
   "name": "python",
   "nbconvert_exporter": "python",
   "pygments_lexer": "ipython3",
   "version": "3.11.8"
  }
 },
 "nbformat": 4,
 "nbformat_minor": 2
}
